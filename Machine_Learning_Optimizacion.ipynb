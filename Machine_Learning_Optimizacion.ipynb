{
  "cells": [
    {
      "cell_type": "code",
      "execution_count": 1,
      "metadata": {
        "colab": {
          "base_uri": "https://localhost:8080/",
          "height": 203
        },
        "id": "y7ik04NlDZMA",
        "outputId": "226693ec-f06f-4a32-c068-b86036986543"
      },
      "outputs": [
        {
          "data": {
            "text/html": [
              "<div>\n",
              "<style scoped>\n",
              "    .dataframe tbody tr th:only-of-type {\n",
              "        vertical-align: middle;\n",
              "    }\n",
              "\n",
              "    .dataframe tbody tr th {\n",
              "        vertical-align: top;\n",
              "    }\n",
              "\n",
              "    .dataframe thead th {\n",
              "        text-align: right;\n",
              "    }\n",
              "</style>\n",
              "<table border=\"1\" class=\"dataframe\">\n",
              "  <thead>\n",
              "    <tr style=\"text-align: right;\">\n",
              "      <th></th>\n",
              "      <th>precio</th>\n",
              "      <th>vendido</th>\n",
              "      <th>edad_del_modelo</th>\n",
              "      <th>km_by_year</th>\n",
              "    </tr>\n",
              "  </thead>\n",
              "  <tbody>\n",
              "    <tr>\n",
              "      <th>0</th>\n",
              "      <td>30941.02</td>\n",
              "      <td>1</td>\n",
              "      <td>18</td>\n",
              "      <td>35085.22134</td>\n",
              "    </tr>\n",
              "    <tr>\n",
              "      <th>1</th>\n",
              "      <td>40557.96</td>\n",
              "      <td>1</td>\n",
              "      <td>20</td>\n",
              "      <td>12622.05362</td>\n",
              "    </tr>\n",
              "    <tr>\n",
              "      <th>2</th>\n",
              "      <td>89627.50</td>\n",
              "      <td>0</td>\n",
              "      <td>12</td>\n",
              "      <td>11440.79806</td>\n",
              "    </tr>\n",
              "    <tr>\n",
              "      <th>3</th>\n",
              "      <td>95276.14</td>\n",
              "      <td>0</td>\n",
              "      <td>3</td>\n",
              "      <td>43167.32682</td>\n",
              "    </tr>\n",
              "    <tr>\n",
              "      <th>4</th>\n",
              "      <td>117384.68</td>\n",
              "      <td>1</td>\n",
              "      <td>4</td>\n",
              "      <td>12770.11290</td>\n",
              "    </tr>\n",
              "  </tbody>\n",
              "</table>\n",
              "</div>"
            ],
            "text/plain": [
              "      precio  vendido  edad_del_modelo   km_by_year\n",
              "0   30941.02        1               18  35085.22134\n",
              "1   40557.96        1               20  12622.05362\n",
              "2   89627.50        0               12  11440.79806\n",
              "3   95276.14        0                3  43167.32682\n",
              "4  117384.68        1                4  12770.11290"
            ]
          },
          "execution_count": 1,
          "metadata": {
            "tags": []
          },
          "output_type": "execute_result"
        }
      ],
      "source": [
        "import pandas as pd\n",
        "import numpy as np\n",
        "\n",
        "datos = pd.read_csv(\"carros.csv\")\n",
        "datos.head()"
      ]
    },
    {
      "cell_type": "code",
      "execution_count": 2,
      "metadata": {
        "colab": {
          "base_uri": "https://localhost:8080/",
          "height": 203
        },
        "id": "b52E4e1hjegN",
        "outputId": "2d4ac1a2-6ac7-4108-93cb-bf307efc2d20"
      },
      "outputs": [
        {
          "data": {
            "text/html": [
              "<div>\n",
              "<style scoped>\n",
              "    .dataframe tbody tr th:only-of-type {\n",
              "        vertical-align: middle;\n",
              "    }\n",
              "\n",
              "    .dataframe tbody tr th {\n",
              "        vertical-align: top;\n",
              "    }\n",
              "\n",
              "    .dataframe thead th {\n",
              "        text-align: right;\n",
              "    }\n",
              "</style>\n",
              "<table border=\"1\" class=\"dataframe\">\n",
              "  <thead>\n",
              "    <tr style=\"text-align: right;\">\n",
              "      <th></th>\n",
              "      <th>precio</th>\n",
              "      <th>vendido</th>\n",
              "      <th>edad_del_modelo</th>\n",
              "      <th>km_by_year</th>\n",
              "    </tr>\n",
              "  </thead>\n",
              "  <tbody>\n",
              "    <tr>\n",
              "      <th>4999</th>\n",
              "      <td>74023.29</td>\n",
              "      <td>0</td>\n",
              "      <td>12</td>\n",
              "      <td>24812.80412</td>\n",
              "    </tr>\n",
              "    <tr>\n",
              "      <th>5322</th>\n",
              "      <td>84843.49</td>\n",
              "      <td>0</td>\n",
              "      <td>13</td>\n",
              "      <td>23095.63834</td>\n",
              "    </tr>\n",
              "    <tr>\n",
              "      <th>5319</th>\n",
              "      <td>83100.27</td>\n",
              "      <td>0</td>\n",
              "      <td>19</td>\n",
              "      <td>36240.72746</td>\n",
              "    </tr>\n",
              "    <tr>\n",
              "      <th>5316</th>\n",
              "      <td>87932.13</td>\n",
              "      <td>0</td>\n",
              "      <td>16</td>\n",
              "      <td>32249.56426</td>\n",
              "    </tr>\n",
              "    <tr>\n",
              "      <th>5315</th>\n",
              "      <td>77937.01</td>\n",
              "      <td>0</td>\n",
              "      <td>15</td>\n",
              "      <td>28414.50704</td>\n",
              "    </tr>\n",
              "  </tbody>\n",
              "</table>\n",
              "</div>"
            ],
            "text/plain": [
              "        precio  vendido  edad_del_modelo   km_by_year\n",
              "4999  74023.29        0               12  24812.80412\n",
              "5322  84843.49        0               13  23095.63834\n",
              "5319  83100.27        0               19  36240.72746\n",
              "5316  87932.13        0               16  32249.56426\n",
              "5315  77937.01        0               15  28414.50704"
            ]
          },
          "execution_count": 2,
          "metadata": {
            "tags": []
          },
          "output_type": "execute_result"
        }
      ],
      "source": [
        "#situacion con los datos ordenados de la peor manera\n",
        "datos_ord = datos.sort_values(\"vendido\", ascending=True)\n",
        "x_ord = datos_ord[[\"precio\", \"edad_del_modelo\",\"km_by_year\"]]\n",
        "y_ord = datos_ord[\"vendido\"]\n",
        "datos_ord.head()"
      ]
    },
    {
      "cell_type": "code",
      "execution_count": 3,
      "metadata": {
        "colab": {
          "base_uri": "https://localhost:8080/"
        },
        "id": "ZNT26vFEeYmz",
        "outputId": "ea9dcfad-1b95-4491-ab9d-c5bb61a06369"
      },
      "outputs": [
        {
          "name": "stdout",
          "output_type": "stream",
          "text": [
            "Accuracy con dummy stratified, 10 = [49.79, 53.45]\n"
          ]
        },
        {
          "name": "stderr",
          "output_type": "stream",
          "text": [
            "/usr/local/lib/python3.7/dist-packages/sklearn/dummy.py:132: FutureWarning: The default value of strategy will change from stratified to prior in 0.24.\n",
            "  \"stratified to prior in 0.24.\", FutureWarning)\n"
          ]
        }
      ],
      "source": [
        "from sklearn.model_selection import cross_validate\n",
        "from sklearn.dummy import DummyClassifier\n",
        "import numpy as np\n",
        "\n",
        "SEED = 301\n",
        "np.random.seed(SEED)\n",
        "\n",
        "modelo = DummyClassifier()\n",
        "results = cross_validate(modelo, x_ord, y_ord, cv = 10, return_train_score=False)\n",
        "media = results['test_score'].mean()\n",
        "desviacion_estandar = results['test_score'].std()\n",
        "print(\"Accuracy con dummy stratified, 10 = [%.2f, %.2f]\" % ((media - 2 * desviacion_estandar)*100, (media + 2 * desviacion_estandar) * 100))"
      ]
    },
    {
      "cell_type": "code",
      "execution_count": 4,
      "metadata": {
        "colab": {
          "base_uri": "https://localhost:8080/"
        },
        "id": "73mCcFA_eG_K",
        "outputId": "b67a4548-884b-41de-9b84-6b3220010ce0"
      },
      "outputs": [
        {
          "name": "stdout",
          "output_type": "stream",
          "text": [
            "Accuracy con cross validation, 10 = [73.83, 77.73]\n"
          ]
        }
      ],
      "source": [
        "from sklearn.model_selection import cross_validate\n",
        "from sklearn.tree import DecisionTreeClassifier\n",
        "\n",
        "SEED = 301\n",
        "np.random.seed(SEED)\n",
        "\n",
        "modelo = DecisionTreeClassifier(max_depth=2)\n",
        "results = cross_validate(modelo, x_ord, y_ord, cv = 10, return_train_score=False)\n",
        "media = results['test_score'].mean()\n",
        "desviacion_estandar = results['test_score'].std()\n",
        "print(\"Accuracy con cross validation, 10 = [%.2f, %.2f]\" % ((media - 2 * desviacion_estandar)*100, (media + 2 * desviacion_estandar) * 100))"
      ]
    },
    {
      "cell_type": "code",
      "execution_count": 5,
      "metadata": {
        "colab": {
          "base_uri": "https://localhost:8080/",
          "height": 203
        },
        "id": "5C8Y6J-PGpYf",
        "outputId": "bfe00ca9-163f-4053-c7cb-365d71594048"
      },
      "outputs": [
        {
          "data": {
            "text/html": [
              "<div>\n",
              "<style scoped>\n",
              "    .dataframe tbody tr th:only-of-type {\n",
              "        vertical-align: middle;\n",
              "    }\n",
              "\n",
              "    .dataframe tbody tr th {\n",
              "        vertical-align: top;\n",
              "    }\n",
              "\n",
              "    .dataframe thead th {\n",
              "        text-align: right;\n",
              "    }\n",
              "</style>\n",
              "<table border=\"1\" class=\"dataframe\">\n",
              "  <thead>\n",
              "    <tr style=\"text-align: right;\">\n",
              "      <th></th>\n",
              "      <th>precio</th>\n",
              "      <th>vendido</th>\n",
              "      <th>edad_del_modelo</th>\n",
              "      <th>km_by_year</th>\n",
              "      <th>modelo</th>\n",
              "    </tr>\n",
              "  </thead>\n",
              "  <tbody>\n",
              "    <tr>\n",
              "      <th>0</th>\n",
              "      <td>30941.02</td>\n",
              "      <td>1</td>\n",
              "      <td>18</td>\n",
              "      <td>35085.22134</td>\n",
              "      <td>18</td>\n",
              "    </tr>\n",
              "    <tr>\n",
              "      <th>1</th>\n",
              "      <td>40557.96</td>\n",
              "      <td>1</td>\n",
              "      <td>20</td>\n",
              "      <td>12622.05362</td>\n",
              "      <td>24</td>\n",
              "    </tr>\n",
              "    <tr>\n",
              "      <th>2</th>\n",
              "      <td>89627.50</td>\n",
              "      <td>0</td>\n",
              "      <td>12</td>\n",
              "      <td>11440.79806</td>\n",
              "      <td>14</td>\n",
              "    </tr>\n",
              "    <tr>\n",
              "      <th>3</th>\n",
              "      <td>95276.14</td>\n",
              "      <td>0</td>\n",
              "      <td>3</td>\n",
              "      <td>43167.32682</td>\n",
              "      <td>6</td>\n",
              "    </tr>\n",
              "    <tr>\n",
              "      <th>4</th>\n",
              "      <td>117384.68</td>\n",
              "      <td>1</td>\n",
              "      <td>4</td>\n",
              "      <td>12770.11290</td>\n",
              "      <td>5</td>\n",
              "    </tr>\n",
              "  </tbody>\n",
              "</table>\n",
              "</div>"
            ],
            "text/plain": [
              "      precio  vendido  edad_del_modelo   km_by_year  modelo\n",
              "0   30941.02        1               18  35085.22134      18\n",
              "1   40557.96        1               20  12622.05362      24\n",
              "2   89627.50        0               12  11440.79806      14\n",
              "3   95276.14        0                3  43167.32682       6\n",
              "4  117384.68        1                4  12770.11290       5"
            ]
          },
          "execution_count": 5,
          "metadata": {
            "tags": []
          },
          "output_type": "execute_result"
        }
      ],
      "source": [
        "#generando datos aleatorios del modelo de carro\n",
        "np.random.seed(SEED)\n",
        "datos['modelo'] = datos.edad_del_modelo + np.random.randint(-2, 3, size=10000)\n",
        "datos.modelo = datos.modelo + abs(datos.modelo.min()) + 1\n",
        "datos.head()"
      ]
    },
    {
      "cell_type": "code",
      "execution_count": 6,
      "metadata": {
        "id": "3hmjt7qPHOZY"
      },
      "outputs": [],
      "source": [
        "def imprime_resultados(results):\n",
        "  media = results['test_score'].mean() * 100\n",
        "  desviacion = results['test_score'].std() * 100\n",
        "  print(\"Accuracy media %.2f\" % media)\n",
        "  print(\"Intervalo [%.2f, %.2f]\" % (media - 2 * desviacion, media + 2 * desviacion))"
      ]
    },
    {
      "cell_type": "code",
      "execution_count": 7,
      "metadata": {
        "colab": {
          "base_uri": "https://localhost:8080/"
        },
        "id": "goijy0rSS7n-",
        "outputId": "7df2f7f0-bf15-45e2-de26-518750c83f8b"
      },
      "outputs": [
        {
          "name": "stdout",
          "output_type": "stream",
          "text": [
            "Accuracy media 76.68\n",
            "Intervalo [74.28, 79.08]\n"
          ]
        }
      ],
      "source": [
        "# GroupKFold en un pipeline con StandardScaler y SVC\n",
        "\n",
        "from sklearn.preprocessing import StandardScaler\n",
        "from sklearn.svm import SVC\n",
        "from sklearn.pipeline import Pipeline\n",
        "from sklearn.model_selection import GroupKFold\n",
        "\n",
        "SEED = 301\n",
        "np.random.seed(SEED)\n",
        "\n",
        "scaler = StandardScaler()\n",
        "modelo = SVC()\n",
        "\n",
        "pipeline = Pipeline([('transformacion',scaler), ('estimador',modelo)])\n",
        "\n",
        "cv = GroupKFold(n_splits = 10)\n",
        "results = cross_validate(pipeline, x_ord, y_ord, cv = cv, groups = datos.modelo, return_train_score=False)\n",
        "imprime_resultados(results)"
      ]
    },
    {
      "cell_type": "code",
      "execution_count": 8,
      "metadata": {
        "colab": {
          "base_uri": "https://localhost:8080/"
        },
        "id": "IKD8uaWkNcUL",
        "outputId": "4589bc18-108d-45d0-878a-a8fbc0f0d439"
      },
      "outputs": [
        {
          "name": "stdout",
          "output_type": "stream",
          "text": [
            "Accuracy media 75.78\n",
            "Intervalo [73.67, 77.90]\n"
          ]
        }
      ],
      "source": [
        "# GroupKFold para analizar como el modelo se comporta con nuevos grupos\n",
        "\n",
        "from sklearn.model_selection import GroupKFold\n",
        "\n",
        "SEED = 301\n",
        "np.random.seed(SEED)\n",
        "\n",
        "cv = GroupKFold(n_splits = 10)\n",
        "modelo = DecisionTreeClassifier(max_depth=2)\n",
        "results = cross_validate(modelo, x_ord, y_ord, cv = cv, groups = datos.modelo, return_train_score=False)\n",
        "imprime_resultados(results)"
      ]
    },
    {
      "cell_type": "code",
      "execution_count": 9,
      "metadata": {
        "colab": {
          "base_uri": "https://localhost:8080/",
          "height": 440
        },
        "id": "SmnJSvM2mjE3",
        "outputId": "3d28bf69-c9ed-49a5-9687-05f44220dfb9"
      },
      "outputs": [
        {
          "data": {
            "image/svg+xml": [
              "<?xml version=\"1.0\" encoding=\"UTF-8\" standalone=\"no\"?>\n",
              "<!DOCTYPE svg PUBLIC \"-//W3C//DTD SVG 1.1//EN\"\n",
              " \"http://www.w3.org/Graphics/SVG/1.1/DTD/svg11.dtd\">\n",
              "<!-- Generated by graphviz version 2.40.1 (20161225.0304)\n",
              " -->\n",
              "<!-- Title: Tree Pages: 1 -->\n",
              "<svg width=\"629pt\" height=\"314pt\"\n",
              " viewBox=\"0.00 0.00 629.00 314.00\" xmlns=\"http://www.w3.org/2000/svg\" xmlns:xlink=\"http://www.w3.org/1999/xlink\">\n",
              "<g id=\"graph0\" class=\"graph\" transform=\"scale(1 1) rotate(0) translate(4 310)\">\n",
              "<title>Tree</title>\n",
              "<polygon fill=\"#ffffff\" stroke=\"transparent\" points=\"-4,4 -4,-310 625,-310 625,4 -4,4\"/>\n",
              "<!-- 0 -->\n",
              "<g id=\"node1\" class=\"node\">\n",
              "<title>0</title>\n",
              "<path fill=\"#c8e4f8\" stroke=\"#000000\" d=\"M362,-306C362,-306 236,-306 236,-306 230,-306 224,-300 224,-294 224,-294 224,-235 224,-235 224,-229 230,-223 236,-223 236,-223 362,-223 362,-223 368,-223 374,-229 374,-235 374,-235 374,-294 374,-294 374,-300 368,-306 362,-306\"/>\n",
              "<text text-anchor=\"middle\" x=\"299\" y=\"-290.8\" font-family=\"Helvetica,sans-Serif\" font-size=\"14.00\" fill=\"#000000\">precio &lt;= 59982.246</text>\n",
              "<text text-anchor=\"middle\" x=\"299\" y=\"-275.8\" font-family=\"Helvetica,sans-Serif\" font-size=\"14.00\" fill=\"#000000\">gini = 0.487</text>\n",
              "<text text-anchor=\"middle\" x=\"299\" y=\"-260.8\" font-family=\"Helvetica,sans-Serif\" font-size=\"14.00\" fill=\"#000000\">samples = 10000</text>\n",
              "<text text-anchor=\"middle\" x=\"299\" y=\"-245.8\" font-family=\"Helvetica,sans-Serif\" font-size=\"14.00\" fill=\"#000000\">value = [4200, 5800]</text>\n",
              "<text text-anchor=\"middle\" x=\"299\" y=\"-230.8\" font-family=\"Helvetica,sans-Serif\" font-size=\"14.00\" fill=\"#000000\">class = si</text>\n",
              "</g>\n",
              "<!-- 1 -->\n",
              "<g id=\"node2\" class=\"node\">\n",
              "<title>1</title>\n",
              "<path fill=\"#52a9e8\" stroke=\"#000000\" d=\"M268,-187C268,-187 142,-187 142,-187 136,-187 130,-181 130,-175 130,-175 130,-116 130,-116 130,-110 136,-104 142,-104 142,-104 268,-104 268,-104 274,-104 280,-110 280,-116 280,-116 280,-175 280,-175 280,-181 274,-187 268,-187\"/>\n",
              "<text text-anchor=\"middle\" x=\"205\" y=\"-171.8\" font-family=\"Helvetica,sans-Serif\" font-size=\"14.00\" fill=\"#000000\">precio &lt;= 40083.385</text>\n",
              "<text text-anchor=\"middle\" x=\"205\" y=\"-156.8\" font-family=\"Helvetica,sans-Serif\" font-size=\"14.00\" fill=\"#000000\">gini = 0.198</text>\n",
              "<text text-anchor=\"middle\" x=\"205\" y=\"-141.8\" font-family=\"Helvetica,sans-Serif\" font-size=\"14.00\" fill=\"#000000\">samples = 4347</text>\n",
              "<text text-anchor=\"middle\" x=\"205\" y=\"-126.8\" font-family=\"Helvetica,sans-Serif\" font-size=\"14.00\" fill=\"#000000\">value = [484, 3863]</text>\n",
              "<text text-anchor=\"middle\" x=\"205\" y=\"-111.8\" font-family=\"Helvetica,sans-Serif\" font-size=\"14.00\" fill=\"#000000\">class = si</text>\n",
              "</g>\n",
              "<!-- 0&#45;&gt;1 -->\n",
              "<g id=\"edge1\" class=\"edge\">\n",
              "<title>0&#45;&gt;1</title>\n",
              "<path fill=\"none\" stroke=\"#000000\" d=\"M266.1234,-222.8796C259.0803,-213.9633 251.5707,-204.4565 244.3126,-195.268\"/>\n",
              "<polygon fill=\"#000000\" stroke=\"#000000\" points=\"246.9621,-192.9757 238.017,-187.2981 241.4691,-197.3147 246.9621,-192.9757\"/>\n",
              "<text text-anchor=\"middle\" x=\"235.1027\" y=\"-208.4276\" font-family=\"Helvetica,sans-Serif\" font-size=\"14.00\" fill=\"#000000\">True</text>\n",
              "</g>\n",
              "<!-- 4 -->\n",
              "<g id=\"node5\" class=\"node\">\n",
              "<title>4</title>\n",
              "<path fill=\"#f3c3a0\" stroke=\"#000000\" d=\"M477.5,-187C477.5,-187 310.5,-187 310.5,-187 304.5,-187 298.5,-181 298.5,-175 298.5,-175 298.5,-116 298.5,-116 298.5,-110 304.5,-104 310.5,-104 310.5,-104 477.5,-104 477.5,-104 483.5,-104 489.5,-110 489.5,-116 489.5,-116 489.5,-175 489.5,-175 489.5,-181 483.5,-187 477.5,-187\"/>\n",
              "<text text-anchor=\"middle\" x=\"394\" y=\"-171.8\" font-family=\"Helvetica,sans-Serif\" font-size=\"14.00\" fill=\"#000000\">km_by_year &lt;= 24124.006</text>\n",
              "<text text-anchor=\"middle\" x=\"394\" y=\"-156.8\" font-family=\"Helvetica,sans-Serif\" font-size=\"14.00\" fill=\"#000000\">gini = 0.45</text>\n",
              "<text text-anchor=\"middle\" x=\"394\" y=\"-141.8\" font-family=\"Helvetica,sans-Serif\" font-size=\"14.00\" fill=\"#000000\">samples = 5653</text>\n",
              "<text text-anchor=\"middle\" x=\"394\" y=\"-126.8\" font-family=\"Helvetica,sans-Serif\" font-size=\"14.00\" fill=\"#000000\">value = [3716, 1937]</text>\n",
              "<text text-anchor=\"middle\" x=\"394\" y=\"-111.8\" font-family=\"Helvetica,sans-Serif\" font-size=\"14.00\" fill=\"#000000\">class = no</text>\n",
              "</g>\n",
              "<!-- 0&#45;&gt;4 -->\n",
              "<g id=\"edge4\" class=\"edge\">\n",
              "<title>0&#45;&gt;4</title>\n",
              "<path fill=\"none\" stroke=\"#000000\" d=\"M332.2264,-222.8796C339.3444,-213.9633 346.9339,-204.4565 354.2692,-195.268\"/>\n",
              "<polygon fill=\"#000000\" stroke=\"#000000\" points=\"357.1281,-197.2968 360.6318,-187.2981 351.6575,-192.9295 357.1281,-197.2968\"/>\n",
              "<text text-anchor=\"middle\" x=\"363.4181\" y=\"-208.4423\" font-family=\"Helvetica,sans-Serif\" font-size=\"14.00\" fill=\"#000000\">False</text>\n",
              "</g>\n",
              "<!-- 2 -->\n",
              "<g id=\"node3\" class=\"node\">\n",
              "<title>2</title>\n",
              "<path fill=\"#399de5\" stroke=\"#000000\" d=\"M112,-68C112,-68 12,-68 12,-68 6,-68 0,-62 0,-56 0,-56 0,-12 0,-12 0,-6 6,0 12,0 12,0 112,0 112,0 118,0 124,-6 124,-12 124,-12 124,-56 124,-56 124,-62 118,-68 112,-68\"/>\n",
              "<text text-anchor=\"middle\" x=\"62\" y=\"-52.8\" font-family=\"Helvetica,sans-Serif\" font-size=\"14.00\" fill=\"#000000\">gini = 0.0</text>\n",
              "<text text-anchor=\"middle\" x=\"62\" y=\"-37.8\" font-family=\"Helvetica,sans-Serif\" font-size=\"14.00\" fill=\"#000000\">samples = 1935</text>\n",
              "<text text-anchor=\"middle\" x=\"62\" y=\"-22.8\" font-family=\"Helvetica,sans-Serif\" font-size=\"14.00\" fill=\"#000000\">value = [0, 1935]</text>\n",
              "<text text-anchor=\"middle\" x=\"62\" y=\"-7.8\" font-family=\"Helvetica,sans-Serif\" font-size=\"14.00\" fill=\"#000000\">class = si</text>\n",
              "</g>\n",
              "<!-- 1&#45;&gt;2 -->\n",
              "<g id=\"edge2\" class=\"edge\">\n",
              "<title>1&#45;&gt;2</title>\n",
              "<path fill=\"none\" stroke=\"#000000\" d=\"M151.7521,-103.9815C139.3756,-94.3313 126.2172,-84.0714 113.8997,-74.4673\"/>\n",
              "<polygon fill=\"#000000\" stroke=\"#000000\" points=\"115.9818,-71.6525 105.9435,-68.2637 111.6775,-77.1728 115.9818,-71.6525\"/>\n",
              "</g>\n",
              "<!-- 3 -->\n",
              "<g id=\"node4\" class=\"node\">\n",
              "<title>3</title>\n",
              "<path fill=\"#6bb6ec\" stroke=\"#000000\" d=\"M270,-68C270,-68 154,-68 154,-68 148,-68 142,-62 142,-56 142,-56 142,-12 142,-12 142,-6 148,0 154,0 154,0 270,0 270,0 276,0 282,-6 282,-12 282,-12 282,-56 282,-56 282,-62 276,-68 270,-68\"/>\n",
              "<text text-anchor=\"middle\" x=\"212\" y=\"-52.8\" font-family=\"Helvetica,sans-Serif\" font-size=\"14.00\" fill=\"#000000\">gini = 0.321</text>\n",
              "<text text-anchor=\"middle\" x=\"212\" y=\"-37.8\" font-family=\"Helvetica,sans-Serif\" font-size=\"14.00\" fill=\"#000000\">samples = 2412</text>\n",
              "<text text-anchor=\"middle\" x=\"212\" y=\"-22.8\" font-family=\"Helvetica,sans-Serif\" font-size=\"14.00\" fill=\"#000000\">value = [484, 1928]</text>\n",
              "<text text-anchor=\"middle\" x=\"212\" y=\"-7.8\" font-family=\"Helvetica,sans-Serif\" font-size=\"14.00\" fill=\"#000000\">class = si</text>\n",
              "</g>\n",
              "<!-- 1&#45;&gt;3 -->\n",
              "<g id=\"edge3\" class=\"edge\">\n",
              "<title>1&#45;&gt;3</title>\n",
              "<path fill=\"none\" stroke=\"#000000\" d=\"M207.6065,-103.9815C208.1316,-95.618 208.6854,-86.7965 209.2163,-78.3409\"/>\n",
              "<polygon fill=\"#000000\" stroke=\"#000000\" points=\"212.7154,-78.4634 209.8489,-68.2637 205.7291,-78.0247 212.7154,-78.4634\"/>\n",
              "</g>\n",
              "<!-- 5 -->\n",
              "<g id=\"node6\" class=\"node\">\n",
              "<title>5</title>\n",
              "<path fill=\"#fcefe5\" stroke=\"#000000\" d=\"M450.5,-68C450.5,-68 325.5,-68 325.5,-68 319.5,-68 313.5,-62 313.5,-56 313.5,-56 313.5,-12 313.5,-12 313.5,-6 319.5,0 325.5,0 325.5,0 450.5,0 450.5,0 456.5,0 462.5,-6 462.5,-12 462.5,-12 462.5,-56 462.5,-56 462.5,-62 456.5,-68 450.5,-68\"/>\n",
              "<text text-anchor=\"middle\" x=\"388\" y=\"-52.8\" font-family=\"Helvetica,sans-Serif\" font-size=\"14.00\" fill=\"#000000\">gini = 0.498</text>\n",
              "<text text-anchor=\"middle\" x=\"388\" y=\"-37.8\" font-family=\"Helvetica,sans-Serif\" font-size=\"14.00\" fill=\"#000000\">samples = 3513</text>\n",
              "<text text-anchor=\"middle\" x=\"388\" y=\"-22.8\" font-family=\"Helvetica,sans-Serif\" font-size=\"14.00\" fill=\"#000000\">value = [1879, 1634]</text>\n",
              "<text text-anchor=\"middle\" x=\"388\" y=\"-7.8\" font-family=\"Helvetica,sans-Serif\" font-size=\"14.00\" fill=\"#000000\">class = no</text>\n",
              "</g>\n",
              "<!-- 4&#45;&gt;5 -->\n",
              "<g id=\"edge5\" class=\"edge\">\n",
              "<title>4&#45;&gt;5</title>\n",
              "<path fill=\"none\" stroke=\"#000000\" d=\"M391.7658,-103.9815C391.3158,-95.618 390.8411,-86.7965 390.3861,-78.3409\"/>\n",
              "<polygon fill=\"#000000\" stroke=\"#000000\" points=\"393.8762,-78.0611 389.8438,-68.2637 386.8863,-78.4373 393.8762,-78.0611\"/>\n",
              "</g>\n",
              "<!-- 6 -->\n",
              "<g id=\"node7\" class=\"node\">\n",
              "<title>6</title>\n",
              "<path fill=\"#e9965a\" stroke=\"#000000\" d=\"M609,-68C609,-68 493,-68 493,-68 487,-68 481,-62 481,-56 481,-56 481,-12 481,-12 481,-6 487,0 493,0 493,0 609,0 609,0 615,0 621,-6 621,-12 621,-12 621,-56 621,-56 621,-62 615,-68 609,-68\"/>\n",
              "<text text-anchor=\"middle\" x=\"551\" y=\"-52.8\" font-family=\"Helvetica,sans-Serif\" font-size=\"14.00\" fill=\"#000000\">gini = 0.243</text>\n",
              "<text text-anchor=\"middle\" x=\"551\" y=\"-37.8\" font-family=\"Helvetica,sans-Serif\" font-size=\"14.00\" fill=\"#000000\">samples = 2140</text>\n",
              "<text text-anchor=\"middle\" x=\"551\" y=\"-22.8\" font-family=\"Helvetica,sans-Serif\" font-size=\"14.00\" fill=\"#000000\">value = [1837, 303]</text>\n",
              "<text text-anchor=\"middle\" x=\"551\" y=\"-7.8\" font-family=\"Helvetica,sans-Serif\" font-size=\"14.00\" fill=\"#000000\">class = no</text>\n",
              "</g>\n",
              "<!-- 4&#45;&gt;6 -->\n",
              "<g id=\"edge6\" class=\"edge\">\n",
              "<title>4&#45;&gt;6</title>\n",
              "<path fill=\"none\" stroke=\"#000000\" d=\"M452.461,-103.9815C466.2508,-94.1881 480.9247,-83.7668 494.6205,-74.0402\"/>\n",
              "<polygon fill=\"#000000\" stroke=\"#000000\" points=\"496.8785,-76.7295 503.005,-68.0856 492.8253,-71.0223 496.8785,-76.7295\"/>\n",
              "</g>\n",
              "</g>\n",
              "</svg>\n"
            ],
            "text/plain": [
              "<graphviz.files.Source at 0x7f7641367350>"
            ]
          },
          "execution_count": 9,
          "metadata": {
            "tags": []
          },
          "output_type": "execute_result"
        }
      ],
      "source": [
        "from sklearn.tree import export_graphviz\n",
        "import graphviz\n",
        "\n",
        "modelo.fit(x_ord, y_ord)\n",
        "features = x_ord.columns\n",
        "dot_data = export_graphviz(modelo, out_file=None, filled=True, rounded=True,\n",
        "                class_names=['no','si'],\n",
        "                feature_names = features)\n",
        "\n",
        "graph = graphviz.Source(dot_data)\n",
        "graph"
      ]
    },
    {
      "cell_type": "code",
      "execution_count": 10,
      "metadata": {
        "colab": {
          "base_uri": "https://localhost:8080/"
        },
        "id": "Cc_BeilKp-FN",
        "outputId": "ac8376cb-4d05-4aeb-9365-841497b1aa56"
      },
      "outputs": [
        {
          "name": "stdout",
          "output_type": "stream",
          "text": [
            "Accuracy media 78.67\n",
            "Intervalo [76.40, 80.94]\n"
          ]
        }
      ],
      "source": [
        "# GroupKFold para analizar como el modelo se comporta con nuevos grupos\n",
        "\n",
        "from sklearn.model_selection import GroupKFold\n",
        "\n",
        "SEED = 301\n",
        "np.random.seed(SEED)\n",
        "\n",
        "cv = GroupKFold(n_splits = 10)\n",
        "modelo = DecisionTreeClassifier(max_depth=3)\n",
        "results = cross_validate(modelo, x_ord, y_ord, cv = cv, groups = datos.modelo, return_train_score=False)\n",
        "imprime_resultados(results)"
      ]
    },
    {
      "cell_type": "code",
      "execution_count": 11,
      "metadata": {
        "colab": {
          "base_uri": "https://localhost:8080/",
          "height": 598
        },
        "id": "2g4HjxvdqCT2",
        "outputId": "c4016ec7-362d-4e0a-b40f-249a5c70f5bf"
      },
      "outputs": [
        {
          "data": {
            "image/svg+xml": [
              "<?xml version=\"1.0\" encoding=\"UTF-8\" standalone=\"no\"?>\n",
              "<!DOCTYPE svg PUBLIC \"-//W3C//DTD SVG 1.1//EN\"\n",
              " \"http://www.w3.org/Graphics/SVG/1.1/DTD/svg11.dtd\">\n",
              "<!-- Generated by graphviz version 2.40.1 (20161225.0304)\n",
              " -->\n",
              "<!-- Title: Tree Pages: 1 -->\n",
              "<svg width=\"913pt\" height=\"433pt\"\n",
              " viewBox=\"0.00 0.00 913.00 433.00\" xmlns=\"http://www.w3.org/2000/svg\" xmlns:xlink=\"http://www.w3.org/1999/xlink\">\n",
              "<g id=\"graph0\" class=\"graph\" transform=\"scale(1 1) rotate(0) translate(4 429)\">\n",
              "<title>Tree</title>\n",
              "<polygon fill=\"#ffffff\" stroke=\"transparent\" points=\"-4,4 -4,-429 909,-429 909,4 -4,4\"/>\n",
              "<!-- 0 -->\n",
              "<g id=\"node1\" class=\"node\">\n",
              "<title>0</title>\n",
              "<path fill=\"#c8e4f8\" stroke=\"#000000\" d=\"M374,-425C374,-425 248,-425 248,-425 242,-425 236,-419 236,-413 236,-413 236,-354 236,-354 236,-348 242,-342 248,-342 248,-342 374,-342 374,-342 380,-342 386,-348 386,-354 386,-354 386,-413 386,-413 386,-419 380,-425 374,-425\"/>\n",
              "<text text-anchor=\"middle\" x=\"311\" y=\"-409.8\" font-family=\"Helvetica,sans-Serif\" font-size=\"14.00\" fill=\"#000000\">precio &lt;= 59982.246</text>\n",
              "<text text-anchor=\"middle\" x=\"311\" y=\"-394.8\" font-family=\"Helvetica,sans-Serif\" font-size=\"14.00\" fill=\"#000000\">gini = 0.487</text>\n",
              "<text text-anchor=\"middle\" x=\"311\" y=\"-379.8\" font-family=\"Helvetica,sans-Serif\" font-size=\"14.00\" fill=\"#000000\">samples = 10000</text>\n",
              "<text text-anchor=\"middle\" x=\"311\" y=\"-364.8\" font-family=\"Helvetica,sans-Serif\" font-size=\"14.00\" fill=\"#000000\">value = [4200, 5800]</text>\n",
              "<text text-anchor=\"middle\" x=\"311\" y=\"-349.8\" font-family=\"Helvetica,sans-Serif\" font-size=\"14.00\" fill=\"#000000\">class = si</text>\n",
              "</g>\n",
              "<!-- 1 -->\n",
              "<g id=\"node2\" class=\"node\">\n",
              "<title>1</title>\n",
              "<path fill=\"#52a9e8\" stroke=\"#000000\" d=\"M280,-306C280,-306 154,-306 154,-306 148,-306 142,-300 142,-294 142,-294 142,-235 142,-235 142,-229 148,-223 154,-223 154,-223 280,-223 280,-223 286,-223 292,-229 292,-235 292,-235 292,-294 292,-294 292,-300 286,-306 280,-306\"/>\n",
              "<text text-anchor=\"middle\" x=\"217\" y=\"-290.8\" font-family=\"Helvetica,sans-Serif\" font-size=\"14.00\" fill=\"#000000\">precio &lt;= 40083.385</text>\n",
              "<text text-anchor=\"middle\" x=\"217\" y=\"-275.8\" font-family=\"Helvetica,sans-Serif\" font-size=\"14.00\" fill=\"#000000\">gini = 0.198</text>\n",
              "<text text-anchor=\"middle\" x=\"217\" y=\"-260.8\" font-family=\"Helvetica,sans-Serif\" font-size=\"14.00\" fill=\"#000000\">samples = 4347</text>\n",
              "<text text-anchor=\"middle\" x=\"217\" y=\"-245.8\" font-family=\"Helvetica,sans-Serif\" font-size=\"14.00\" fill=\"#000000\">value = [484, 3863]</text>\n",
              "<text text-anchor=\"middle\" x=\"217\" y=\"-230.8\" font-family=\"Helvetica,sans-Serif\" font-size=\"14.00\" fill=\"#000000\">class = si</text>\n",
              "</g>\n",
              "<!-- 0&#45;&gt;1 -->\n",
              "<g id=\"edge1\" class=\"edge\">\n",
              "<title>0&#45;&gt;1</title>\n",
              "<path fill=\"none\" stroke=\"#000000\" d=\"M278.1234,-341.8796C271.0803,-332.9633 263.5707,-323.4565 256.3126,-314.268\"/>\n",
              "<polygon fill=\"#000000\" stroke=\"#000000\" points=\"258.9621,-311.9757 250.017,-306.2981 253.4691,-316.3147 258.9621,-311.9757\"/>\n",
              "<text text-anchor=\"middle\" x=\"247.1027\" y=\"-327.4276\" font-family=\"Helvetica,sans-Serif\" font-size=\"14.00\" fill=\"#000000\">True</text>\n",
              "</g>\n",
              "<!-- 6 -->\n",
              "<g id=\"node7\" class=\"node\">\n",
              "<title>6</title>\n",
              "<path fill=\"#f3c3a0\" stroke=\"#000000\" d=\"M545.5,-306C545.5,-306 378.5,-306 378.5,-306 372.5,-306 366.5,-300 366.5,-294 366.5,-294 366.5,-235 366.5,-235 366.5,-229 372.5,-223 378.5,-223 378.5,-223 545.5,-223 545.5,-223 551.5,-223 557.5,-229 557.5,-235 557.5,-235 557.5,-294 557.5,-294 557.5,-300 551.5,-306 545.5,-306\"/>\n",
              "<text text-anchor=\"middle\" x=\"462\" y=\"-290.8\" font-family=\"Helvetica,sans-Serif\" font-size=\"14.00\" fill=\"#000000\">km_by_year &lt;= 24124.006</text>\n",
              "<text text-anchor=\"middle\" x=\"462\" y=\"-275.8\" font-family=\"Helvetica,sans-Serif\" font-size=\"14.00\" fill=\"#000000\">gini = 0.45</text>\n",
              "<text text-anchor=\"middle\" x=\"462\" y=\"-260.8\" font-family=\"Helvetica,sans-Serif\" font-size=\"14.00\" fill=\"#000000\">samples = 5653</text>\n",
              "<text text-anchor=\"middle\" x=\"462\" y=\"-245.8\" font-family=\"Helvetica,sans-Serif\" font-size=\"14.00\" fill=\"#000000\">value = [3716, 1937]</text>\n",
              "<text text-anchor=\"middle\" x=\"462\" y=\"-230.8\" font-family=\"Helvetica,sans-Serif\" font-size=\"14.00\" fill=\"#000000\">class = no</text>\n",
              "</g>\n",
              "<!-- 0&#45;&gt;6 -->\n",
              "<g id=\"edge6\" class=\"edge\">\n",
              "<title>0&#45;&gt;6</title>\n",
              "<path fill=\"none\" stroke=\"#000000\" d=\"M363.8125,-341.8796C375.8818,-332.368 388.8039,-322.1843 401.1788,-312.432\"/>\n",
              "<polygon fill=\"#000000\" stroke=\"#000000\" points=\"403.5296,-315.0356 409.2173,-306.0969 399.1968,-309.5377 403.5296,-315.0356\"/>\n",
              "<text text-anchor=\"middle\" x=\"406.275\" y=\"-327.2232\" font-family=\"Helvetica,sans-Serif\" font-size=\"14.00\" fill=\"#000000\">False</text>\n",
              "</g>\n",
              "<!-- 2 -->\n",
              "<g id=\"node3\" class=\"node\">\n",
              "<title>2</title>\n",
              "<path fill=\"#399de5\" stroke=\"#000000\" d=\"M112,-179.5C112,-179.5 12,-179.5 12,-179.5 6,-179.5 0,-173.5 0,-167.5 0,-167.5 0,-123.5 0,-123.5 0,-117.5 6,-111.5 12,-111.5 12,-111.5 112,-111.5 112,-111.5 118,-111.5 124,-117.5 124,-123.5 124,-123.5 124,-167.5 124,-167.5 124,-173.5 118,-179.5 112,-179.5\"/>\n",
              "<text text-anchor=\"middle\" x=\"62\" y=\"-164.3\" font-family=\"Helvetica,sans-Serif\" font-size=\"14.00\" fill=\"#000000\">gini = 0.0</text>\n",
              "<text text-anchor=\"middle\" x=\"62\" y=\"-149.3\" font-family=\"Helvetica,sans-Serif\" font-size=\"14.00\" fill=\"#000000\">samples = 1935</text>\n",
              "<text text-anchor=\"middle\" x=\"62\" y=\"-134.3\" font-family=\"Helvetica,sans-Serif\" font-size=\"14.00\" fill=\"#000000\">value = [0, 1935]</text>\n",
              "<text text-anchor=\"middle\" x=\"62\" y=\"-119.3\" font-family=\"Helvetica,sans-Serif\" font-size=\"14.00\" fill=\"#000000\">class = si</text>\n",
              "</g>\n",
              "<!-- 1&#45;&gt;2 -->\n",
              "<g id=\"edge2\" class=\"edge\">\n",
              "<title>1&#45;&gt;2</title>\n",
              "<path fill=\"none\" stroke=\"#000000\" d=\"M162.7885,-222.8796C147.1769,-210.8938 130.1753,-197.841 114.6592,-185.9287\"/>\n",
              "<polygon fill=\"#000000\" stroke=\"#000000\" points=\"116.7593,-183.1285 106.6959,-179.8149 112.4965,-188.6808 116.7593,-183.1285\"/>\n",
              "</g>\n",
              "<!-- 3 -->\n",
              "<g id=\"node4\" class=\"node\">\n",
              "<title>3</title>\n",
              "<path fill=\"#6bb6ec\" stroke=\"#000000\" d=\"M280,-187C280,-187 154,-187 154,-187 148,-187 142,-181 142,-175 142,-175 142,-116 142,-116 142,-110 148,-104 154,-104 154,-104 280,-104 280,-104 286,-104 292,-110 292,-116 292,-116 292,-175 292,-175 292,-181 286,-187 280,-187\"/>\n",
              "<text text-anchor=\"middle\" x=\"217\" y=\"-171.8\" font-family=\"Helvetica,sans-Serif\" font-size=\"14.00\" fill=\"#000000\">precio &lt;= 41083.029</text>\n",
              "<text text-anchor=\"middle\" x=\"217\" y=\"-156.8\" font-family=\"Helvetica,sans-Serif\" font-size=\"14.00\" fill=\"#000000\">gini = 0.321</text>\n",
              "<text text-anchor=\"middle\" x=\"217\" y=\"-141.8\" font-family=\"Helvetica,sans-Serif\" font-size=\"14.00\" fill=\"#000000\">samples = 2412</text>\n",
              "<text text-anchor=\"middle\" x=\"217\" y=\"-126.8\" font-family=\"Helvetica,sans-Serif\" font-size=\"14.00\" fill=\"#000000\">value = [484, 1928]</text>\n",
              "<text text-anchor=\"middle\" x=\"217\" y=\"-111.8\" font-family=\"Helvetica,sans-Serif\" font-size=\"14.00\" fill=\"#000000\">class = si</text>\n",
              "</g>\n",
              "<!-- 1&#45;&gt;3 -->\n",
              "<g id=\"edge3\" class=\"edge\">\n",
              "<title>1&#45;&gt;3</title>\n",
              "<path fill=\"none\" stroke=\"#000000\" d=\"M217,-222.8796C217,-214.6838 217,-205.9891 217,-197.5013\"/>\n",
              "<polygon fill=\"#000000\" stroke=\"#000000\" points=\"220.5001,-197.298 217,-187.2981 213.5001,-197.2981 220.5001,-197.298\"/>\n",
              "</g>\n",
              "<!-- 4 -->\n",
              "<g id=\"node5\" class=\"node\">\n",
              "<title>4</title>\n",
              "<path fill=\"#95cbf1\" stroke=\"#000000\" d=\"M117,-68C117,-68 25,-68 25,-68 19,-68 13,-62 13,-56 13,-56 13,-12 13,-12 13,-6 19,0 25,0 25,0 117,0 117,0 123,0 129,-6 129,-12 129,-12 129,-56 129,-56 129,-62 123,-68 117,-68\"/>\n",
              "<text text-anchor=\"middle\" x=\"71\" y=\"-52.8\" font-family=\"Helvetica,sans-Serif\" font-size=\"14.00\" fill=\"#000000\">gini = 0.434</text>\n",
              "<text text-anchor=\"middle\" x=\"71\" y=\"-37.8\" font-family=\"Helvetica,sans-Serif\" font-size=\"14.00\" fill=\"#000000\">samples = 110</text>\n",
              "<text text-anchor=\"middle\" x=\"71\" y=\"-22.8\" font-family=\"Helvetica,sans-Serif\" font-size=\"14.00\" fill=\"#000000\">value = [35, 75]</text>\n",
              "<text text-anchor=\"middle\" x=\"71\" y=\"-7.8\" font-family=\"Helvetica,sans-Serif\" font-size=\"14.00\" fill=\"#000000\">class = si</text>\n",
              "</g>\n",
              "<!-- 3&#45;&gt;4 -->\n",
              "<g id=\"edge4\" class=\"edge\">\n",
              "<title>3&#45;&gt;4</title>\n",
              "<path fill=\"none\" stroke=\"#000000\" d=\"M162.635,-103.9815C149.9989,-94.3313 136.5644,-84.0714 123.9885,-74.4673\"/>\n",
              "<polygon fill=\"#000000\" stroke=\"#000000\" points=\"125.9372,-71.5515 115.8654,-68.2637 121.6886,-77.1148 125.9372,-71.5515\"/>\n",
              "</g>\n",
              "<!-- 5 -->\n",
              "<g id=\"node6\" class=\"node\">\n",
              "<title>5</title>\n",
              "<path fill=\"#69b5eb\" stroke=\"#000000\" d=\"M275,-68C275,-68 159,-68 159,-68 153,-68 147,-62 147,-56 147,-56 147,-12 147,-12 147,-6 153,0 159,0 159,0 275,0 275,0 281,0 287,-6 287,-12 287,-12 287,-56 287,-56 287,-62 281,-68 275,-68\"/>\n",
              "<text text-anchor=\"middle\" x=\"217\" y=\"-52.8\" font-family=\"Helvetica,sans-Serif\" font-size=\"14.00\" fill=\"#000000\">gini = 0.314</text>\n",
              "<text text-anchor=\"middle\" x=\"217\" y=\"-37.8\" font-family=\"Helvetica,sans-Serif\" font-size=\"14.00\" fill=\"#000000\">samples = 2302</text>\n",
              "<text text-anchor=\"middle\" x=\"217\" y=\"-22.8\" font-family=\"Helvetica,sans-Serif\" font-size=\"14.00\" fill=\"#000000\">value = [449, 1853]</text>\n",
              "<text text-anchor=\"middle\" x=\"217\" y=\"-7.8\" font-family=\"Helvetica,sans-Serif\" font-size=\"14.00\" fill=\"#000000\">class = si</text>\n",
              "</g>\n",
              "<!-- 3&#45;&gt;5 -->\n",
              "<g id=\"edge5\" class=\"edge\">\n",
              "<title>3&#45;&gt;5</title>\n",
              "<path fill=\"none\" stroke=\"#000000\" d=\"M217,-103.9815C217,-95.618 217,-86.7965 217,-78.3409\"/>\n",
              "<polygon fill=\"#000000\" stroke=\"#000000\" points=\"220.5001,-78.2636 217,-68.2637 213.5001,-78.2637 220.5001,-78.2636\"/>\n",
              "</g>\n",
              "<!-- 7 -->\n",
              "<g id=\"node8\" class=\"node\">\n",
              "<title>7</title>\n",
              "<path fill=\"#fcefe5\" stroke=\"#000000\" d=\"M524.5,-187C524.5,-187 399.5,-187 399.5,-187 393.5,-187 387.5,-181 387.5,-175 387.5,-175 387.5,-116 387.5,-116 387.5,-110 393.5,-104 399.5,-104 399.5,-104 524.5,-104 524.5,-104 530.5,-104 536.5,-110 536.5,-116 536.5,-116 536.5,-175 536.5,-175 536.5,-181 530.5,-187 524.5,-187\"/>\n",
              "<text text-anchor=\"middle\" x=\"462\" y=\"-171.8\" font-family=\"Helvetica,sans-Serif\" font-size=\"14.00\" fill=\"#000000\">precio &lt;= 99974.41</text>\n",
              "<text text-anchor=\"middle\" x=\"462\" y=\"-156.8\" font-family=\"Helvetica,sans-Serif\" font-size=\"14.00\" fill=\"#000000\">gini = 0.498</text>\n",
              "<text text-anchor=\"middle\" x=\"462\" y=\"-141.8\" font-family=\"Helvetica,sans-Serif\" font-size=\"14.00\" fill=\"#000000\">samples = 3513</text>\n",
              "<text text-anchor=\"middle\" x=\"462\" y=\"-126.8\" font-family=\"Helvetica,sans-Serif\" font-size=\"14.00\" fill=\"#000000\">value = [1879, 1634]</text>\n",
              "<text text-anchor=\"middle\" x=\"462\" y=\"-111.8\" font-family=\"Helvetica,sans-Serif\" font-size=\"14.00\" fill=\"#000000\">class = no</text>\n",
              "</g>\n",
              "<!-- 6&#45;&gt;7 -->\n",
              "<g id=\"edge7\" class=\"edge\">\n",
              "<title>6&#45;&gt;7</title>\n",
              "<path fill=\"none\" stroke=\"#000000\" d=\"M462,-222.8796C462,-214.6838 462,-205.9891 462,-197.5013\"/>\n",
              "<polygon fill=\"#000000\" stroke=\"#000000\" points=\"465.5001,-197.298 462,-187.2981 458.5001,-197.2981 465.5001,-197.298\"/>\n",
              "</g>\n",
              "<!-- 10 -->\n",
              "<g id=\"node11\" class=\"node\">\n",
              "<title>10</title>\n",
              "<path fill=\"#e9965a\" stroke=\"#000000\" d=\"M756,-187C756,-187 622,-187 622,-187 616,-187 610,-181 610,-175 610,-175 610,-116 610,-116 610,-110 616,-104 622,-104 622,-104 756,-104 756,-104 762,-104 768,-110 768,-116 768,-116 768,-175 768,-175 768,-181 762,-187 756,-187\"/>\n",
              "<text text-anchor=\"middle\" x=\"689\" y=\"-171.8\" font-family=\"Helvetica,sans-Serif\" font-size=\"14.00\" fill=\"#000000\">precio &lt;= 100076.957</text>\n",
              "<text text-anchor=\"middle\" x=\"689\" y=\"-156.8\" font-family=\"Helvetica,sans-Serif\" font-size=\"14.00\" fill=\"#000000\">gini = 0.243</text>\n",
              "<text text-anchor=\"middle\" x=\"689\" y=\"-141.8\" font-family=\"Helvetica,sans-Serif\" font-size=\"14.00\" fill=\"#000000\">samples = 2140</text>\n",
              "<text text-anchor=\"middle\" x=\"689\" y=\"-126.8\" font-family=\"Helvetica,sans-Serif\" font-size=\"14.00\" fill=\"#000000\">value = [1837, 303]</text>\n",
              "<text text-anchor=\"middle\" x=\"689\" y=\"-111.8\" font-family=\"Helvetica,sans-Serif\" font-size=\"14.00\" fill=\"#000000\">class = no</text>\n",
              "</g>\n",
              "<!-- 6&#45;&gt;10 -->\n",
              "<g id=\"edge10\" class=\"edge\">\n",
              "<title>6&#45;&gt;10</title>\n",
              "<path fill=\"none\" stroke=\"#000000\" d=\"M541.3936,-222.8796C560.5744,-212.8244 581.1878,-202.0183 600.7475,-191.7645\"/>\n",
              "<polygon fill=\"#000000\" stroke=\"#000000\" points=\"602.4195,-194.8398 609.6512,-187.0969 599.1694,-188.6401 602.4195,-194.8398\"/>\n",
              "</g>\n",
              "<!-- 8 -->\n",
              "<g id=\"node9\" class=\"node\">\n",
              "<title>8</title>\n",
              "<path fill=\"#f9e0ce\" stroke=\"#000000\" d=\"M442.5,-68C442.5,-68 317.5,-68 317.5,-68 311.5,-68 305.5,-62 305.5,-56 305.5,-56 305.5,-12 305.5,-12 305.5,-6 311.5,0 317.5,0 317.5,0 442.5,0 442.5,0 448.5,0 454.5,-6 454.5,-12 454.5,-12 454.5,-56 454.5,-56 454.5,-62 448.5,-68 442.5,-68\"/>\n",
              "<text text-anchor=\"middle\" x=\"380\" y=\"-52.8\" font-family=\"Helvetica,sans-Serif\" font-size=\"14.00\" fill=\"#000000\">gini = 0.49</text>\n",
              "<text text-anchor=\"middle\" x=\"380\" y=\"-37.8\" font-family=\"Helvetica,sans-Serif\" font-size=\"14.00\" fill=\"#000000\">samples = 2944</text>\n",
              "<text text-anchor=\"middle\" x=\"380\" y=\"-22.8\" font-family=\"Helvetica,sans-Serif\" font-size=\"14.00\" fill=\"#000000\">value = [1682, 1262]</text>\n",
              "<text text-anchor=\"middle\" x=\"380\" y=\"-7.8\" font-family=\"Helvetica,sans-Serif\" font-size=\"14.00\" fill=\"#000000\">class = no</text>\n",
              "</g>\n",
              "<!-- 7&#45;&gt;8 -->\n",
              "<g id=\"edge8\" class=\"edge\">\n",
              "<title>7&#45;&gt;8</title>\n",
              "<path fill=\"none\" stroke=\"#000000\" d=\"M431.4662,-103.9815C424.8424,-94.9747 417.8279,-85.4367 411.1795,-76.3965\"/>\n",
              "<polygon fill=\"#000000\" stroke=\"#000000\" points=\"413.9426,-74.2461 405.1984,-68.2637 408.3034,-78.3933 413.9426,-74.2461\"/>\n",
              "</g>\n",
              "<!-- 9 -->\n",
              "<g id=\"node10\" class=\"node\">\n",
              "<title>9</title>\n",
              "<path fill=\"#a2d1f3\" stroke=\"#000000\" d=\"M593,-68C593,-68 485,-68 485,-68 479,-68 473,-62 473,-56 473,-56 473,-12 473,-12 473,-6 479,0 485,0 485,0 593,0 593,0 599,0 605,-6 605,-12 605,-12 605,-56 605,-56 605,-62 599,-68 593,-68\"/>\n",
              "<text text-anchor=\"middle\" x=\"539\" y=\"-52.8\" font-family=\"Helvetica,sans-Serif\" font-size=\"14.00\" fill=\"#000000\">gini = 0.453</text>\n",
              "<text text-anchor=\"middle\" x=\"539\" y=\"-37.8\" font-family=\"Helvetica,sans-Serif\" font-size=\"14.00\" fill=\"#000000\">samples = 569</text>\n",
              "<text text-anchor=\"middle\" x=\"539\" y=\"-22.8\" font-family=\"Helvetica,sans-Serif\" font-size=\"14.00\" fill=\"#000000\">value = [197, 372]</text>\n",
              "<text text-anchor=\"middle\" x=\"539\" y=\"-7.8\" font-family=\"Helvetica,sans-Serif\" font-size=\"14.00\" fill=\"#000000\">class = si</text>\n",
              "</g>\n",
              "<!-- 7&#45;&gt;9 -->\n",
              "<g id=\"edge9\" class=\"edge\">\n",
              "<title>7&#45;&gt;9</title>\n",
              "<path fill=\"none\" stroke=\"#000000\" d=\"M490.672,-103.9815C496.8285,-95.0666 503.3443,-85.6313 509.5305,-76.6734\"/>\n",
              "<polygon fill=\"#000000\" stroke=\"#000000\" points=\"512.5355,-78.4811 515.3381,-68.2637 506.7755,-74.5034 512.5355,-78.4811\"/>\n",
              "</g>\n",
              "<!-- 11 -->\n",
              "<g id=\"node12\" class=\"node\">\n",
              "<title>11</title>\n",
              "<path fill=\"#e68742\" stroke=\"#000000\" d=\"M743,-68C743,-68 635,-68 635,-68 629,-68 623,-62 623,-56 623,-56 623,-12 623,-12 623,-6 629,0 635,0 635,0 743,0 743,0 749,0 755,-6 755,-12 755,-12 755,-56 755,-56 755,-62 749,-68 743,-68\"/>\n",
              "<text text-anchor=\"middle\" x=\"689\" y=\"-52.8\" font-family=\"Helvetica,sans-Serif\" font-size=\"14.00\" fill=\"#000000\">gini = 0.082</text>\n",
              "<text text-anchor=\"middle\" x=\"689\" y=\"-37.8\" font-family=\"Helvetica,sans-Serif\" font-size=\"14.00\" fill=\"#000000\">samples = 1809</text>\n",
              "<text text-anchor=\"middle\" x=\"689\" y=\"-22.8\" font-family=\"Helvetica,sans-Serif\" font-size=\"14.00\" fill=\"#000000\">value = [1732, 77]</text>\n",
              "<text text-anchor=\"middle\" x=\"689\" y=\"-7.8\" font-family=\"Helvetica,sans-Serif\" font-size=\"14.00\" fill=\"#000000\">class = no</text>\n",
              "</g>\n",
              "<!-- 10&#45;&gt;11 -->\n",
              "<g id=\"edge11\" class=\"edge\">\n",
              "<title>10&#45;&gt;11</title>\n",
              "<path fill=\"none\" stroke=\"#000000\" d=\"M689,-103.9815C689,-95.618 689,-86.7965 689,-78.3409\"/>\n",
              "<polygon fill=\"#000000\" stroke=\"#000000\" points=\"692.5001,-78.2636 689,-68.2637 685.5001,-78.2637 692.5001,-78.2636\"/>\n",
              "</g>\n",
              "<!-- 12 -->\n",
              "<g id=\"node13\" class=\"node\">\n",
              "<title>12</title>\n",
              "<path fill=\"#95cbf1\" stroke=\"#000000\" d=\"M893,-68C893,-68 785,-68 785,-68 779,-68 773,-62 773,-56 773,-56 773,-12 773,-12 773,-6 779,0 785,0 785,0 893,0 893,0 899,0 905,-6 905,-12 905,-12 905,-56 905,-56 905,-62 899,-68 893,-68\"/>\n",
              "<text text-anchor=\"middle\" x=\"839\" y=\"-52.8\" font-family=\"Helvetica,sans-Serif\" font-size=\"14.00\" fill=\"#000000\">gini = 0.433</text>\n",
              "<text text-anchor=\"middle\" x=\"839\" y=\"-37.8\" font-family=\"Helvetica,sans-Serif\" font-size=\"14.00\" fill=\"#000000\">samples = 331</text>\n",
              "<text text-anchor=\"middle\" x=\"839\" y=\"-22.8\" font-family=\"Helvetica,sans-Serif\" font-size=\"14.00\" fill=\"#000000\">value = [105, 226]</text>\n",
              "<text text-anchor=\"middle\" x=\"839\" y=\"-7.8\" font-family=\"Helvetica,sans-Serif\" font-size=\"14.00\" fill=\"#000000\">class = si</text>\n",
              "</g>\n",
              "<!-- 10&#45;&gt;12 -->\n",
              "<g id=\"edge12\" class=\"edge\">\n",
              "<title>10&#45;&gt;12</title>\n",
              "<path fill=\"none\" stroke=\"#000000\" d=\"M744.8545,-103.9815C757.8368,-94.3313 771.6394,-84.0714 784.5597,-74.4673\"/>\n",
              "<polygon fill=\"#000000\" stroke=\"#000000\" points=\"786.9678,-77.0384 792.9054,-68.2637 782.7917,-71.4204 786.9678,-77.0384\"/>\n",
              "</g>\n",
              "</g>\n",
              "</svg>\n"
            ],
            "text/plain": [
              "<graphviz.files.Source at 0x7f7641374450>"
            ]
          },
          "execution_count": 11,
          "metadata": {
            "tags": []
          },
          "output_type": "execute_result"
        }
      ],
      "source": [
        "from sklearn.tree import export_graphviz\n",
        "import graphviz\n",
        "\n",
        "modelo.fit(x_ord, y_ord)\n",
        "features = x_ord.columns\n",
        "dot_data = export_graphviz(modelo, out_file=None, filled=True, rounded=True,\n",
        "                class_names=['no','si'],\n",
        "                feature_names = features)\n",
        "\n",
        "graph = graphviz.Source(dot_data)\n",
        "graph"
      ]
    },
    {
      "cell_type": "code",
      "execution_count": 12,
      "metadata": {
        "colab": {
          "base_uri": "https://localhost:8080/"
        },
        "id": "ibQCClVnqUz9",
        "outputId": "077f85b0-0d27-4573-8457-918225701634"
      },
      "outputs": [
        {
          "name": "stdout",
          "output_type": "stream",
          "text": [
            "Accuracy media 77.19\n",
            "Intervalo [75.26, 79.13]\n"
          ]
        }
      ],
      "source": [
        "# GroupKFold para analizar como el modelo se comporta con nuevos grupos\n",
        "\n",
        "from sklearn.model_selection import GroupKFold\n",
        "\n",
        "SEED = 301\n",
        "np.random.seed(SEED)\n",
        "\n",
        "cv = GroupKFold(n_splits = 10)\n",
        "modelo = DecisionTreeClassifier(max_depth=10)\n",
        "results = cross_validate(modelo, x_ord, y_ord, cv = cv, groups = datos.modelo, return_train_score=False)\n",
        "imprime_resultados(results)"
      ]
    },
    {
      "cell_type": "markdown",
      "metadata": {
        "id": "Xw7bwXVGr4LY"
      },
      "source": [
        "# Explorando hiper-parámetros en una dimensión"
      ]
    },
    {
      "cell_type": "code",
      "execution_count": 13,
      "metadata": {
        "colab": {
          "base_uri": "https://localhost:8080/",
          "height": 741
        },
        "id": "I-4rn2qRr8BK",
        "outputId": "5fe028fe-ed39-4448-ab24-58f853eb194b"
      },
      "outputs": [
        {
          "name": "stdout",
          "output_type": "stream",
          "text": [
            "Arbol max_depth = 1, training = 75.79, testing = 75.78\n",
            "Arbol max_depth = 2, training = 75.79, testing = 75.78\n",
            "Arbol max_depth = 3, training = 78.75, testing = 78.67\n",
            "Arbol max_depth = 4, training = 78.79, testing = 78.63\n",
            "Arbol max_depth = 5, training = 78.94, testing = 78.56\n",
            "Arbol max_depth = 6, training = 79.17, testing = 78.12\n",
            "Arbol max_depth = 7, training = 79.50, testing = 77.96\n",
            "Arbol max_depth = 8, training = 79.89, testing = 77.86\n",
            "Arbol max_depth = 9, training = 80.46, testing = 77.38\n",
            "Arbol max_depth = 10, training = 81.16, testing = 77.19\n",
            "Arbol max_depth = 11, training = 82.03, testing = 76.97\n",
            "Arbol max_depth = 12, training = 82.89, testing = 76.49\n",
            "Arbol max_depth = 13, training = 83.95, testing = 75.81\n",
            "Arbol max_depth = 14, training = 85.03, testing = 75.66\n",
            "Arbol max_depth = 15, training = 86.14, testing = 75.16\n",
            "Arbol max_depth = 16, training = 87.19, testing = 75.11\n",
            "Arbol max_depth = 17, training = 88.31, testing = 74.74\n",
            "Arbol max_depth = 18, training = 89.26, testing = 74.33\n",
            "Arbol max_depth = 19, training = 90.32, testing = 74.34\n",
            "Arbol max_depth = 20, training = 91.32, testing = 74.22\n",
            "Arbol max_depth = 21, training = 92.14, testing = 73.80\n",
            "Arbol max_depth = 22, training = 93.02, testing = 73.81\n",
            "Arbol max_depth = 23, training = 93.80, testing = 73.38\n",
            "Arbol max_depth = 24, training = 94.47, testing = 73.43\n",
            "Arbol max_depth = 25, training = 95.16, testing = 73.14\n",
            "Arbol max_depth = 26, training = 95.74, testing = 73.04\n",
            "Arbol max_depth = 27, training = 96.33, testing = 72.91\n",
            "Arbol max_depth = 28, training = 96.75, testing = 72.66\n",
            "Arbol max_depth = 29, training = 97.10, testing = 72.73\n",
            "Arbol max_depth = 30, training = 97.43, testing = 72.81\n",
            "Arbol max_depth = 31, training = 97.80, testing = 72.86\n",
            "Arbol max_depth = 32, training = 98.10, testing = 72.52\n"
          ]
        },
        {
          "data": {
            "text/html": [
              "<div>\n",
              "<style scoped>\n",
              "    .dataframe tbody tr th:only-of-type {\n",
              "        vertical-align: middle;\n",
              "    }\n",
              "\n",
              "    .dataframe tbody tr th {\n",
              "        vertical-align: top;\n",
              "    }\n",
              "\n",
              "    .dataframe thead th {\n",
              "        text-align: right;\n",
              "    }\n",
              "</style>\n",
              "<table border=\"1\" class=\"dataframe\">\n",
              "  <thead>\n",
              "    <tr style=\"text-align: right;\">\n",
              "      <th></th>\n",
              "      <th>max_depth</th>\n",
              "      <th>train</th>\n",
              "      <th>test</th>\n",
              "    </tr>\n",
              "  </thead>\n",
              "  <tbody>\n",
              "    <tr>\n",
              "      <th>0</th>\n",
              "      <td>1</td>\n",
              "      <td>75.791169</td>\n",
              "      <td>75.784219</td>\n",
              "    </tr>\n",
              "    <tr>\n",
              "      <th>1</th>\n",
              "      <td>2</td>\n",
              "      <td>75.791169</td>\n",
              "      <td>75.784219</td>\n",
              "    </tr>\n",
              "    <tr>\n",
              "      <th>2</th>\n",
              "      <td>3</td>\n",
              "      <td>78.750993</td>\n",
              "      <td>78.672633</td>\n",
              "    </tr>\n",
              "    <tr>\n",
              "      <th>3</th>\n",
              "      <td>4</td>\n",
              "      <td>78.787628</td>\n",
              "      <td>78.632803</td>\n",
              "    </tr>\n",
              "    <tr>\n",
              "      <th>4</th>\n",
              "      <td>5</td>\n",
              "      <td>78.941007</td>\n",
              "      <td>78.555912</td>\n",
              "    </tr>\n",
              "  </tbody>\n",
              "</table>\n",
              "</div>"
            ],
            "text/plain": [
              "   max_depth      train       test\n",
              "0          1  75.791169  75.784219\n",
              "1          2  75.791169  75.784219\n",
              "2          3  78.750993  78.672633\n",
              "3          4  78.787628  78.632803\n",
              "4          5  78.941007  78.555912"
            ]
          },
          "execution_count": 13,
          "metadata": {
            "tags": []
          },
          "output_type": "execute_result"
        }
      ],
      "source": [
        "def iniciar_arbol_de_decision(max_depth):\n",
        "  SEED = 301\n",
        "  np.random.seed(SEED)\n",
        "\n",
        "  cv = GroupKFold(n_splits = 10)\n",
        "  modelo = DecisionTreeClassifier(max_depth=max_depth)\n",
        "  results = cross_validate(modelo, x_ord, y_ord, cv = cv, groups = datos.modelo, return_train_score=True)\n",
        "  train_score = results['train_score'].mean()*100\n",
        "  test_score = results['test_score'].mean()*100\n",
        "  print('Arbol max_depth = %d, training = %.2f, testing = %.2f' % (max_depth, train_score, test_score))\n",
        "  tabla = [max_depth, train_score, test_score]\n",
        "  return tabla\n",
        "\n",
        "resultados = [iniciar_arbol_de_decision(i) for i in range(1,33)]\n",
        "resultados = pd.DataFrame(resultados, columns=['max_depth','train','test'])\n",
        "resultados.head()"
      ]
    },
    {
      "cell_type": "code",
      "execution_count": 14,
      "metadata": {
        "colab": {
          "base_uri": "https://localhost:8080/",
          "height": 297
        },
        "id": "jlREckZR7Ov2",
        "outputId": "5061a6b8-50f1-4a27-876e-e4dc09b52604"
      },
      "outputs": [
        {
          "data": {
            "text/plain": [
              "<matplotlib.axes._subplots.AxesSubplot at 0x7f7641270f50>"
            ]
          },
          "execution_count": 14,
          "metadata": {
            "tags": []
          },
          "output_type": "execute_result"
        },
        {
          "data": {
            "image/png": "[encoded data removed]",
            "text/plain": [
              "<Figure size 432x288 with 1 Axes>"
            ]
          },
          "metadata": {
            "needs_background": "light",
            "tags": []
          },
          "output_type": "display_data"
        }
      ],
      "source": [
        "import seaborn as sns\n",
        "\n",
        "sns.lineplot(x='max_depth', y='train', data=resultados)"
      ]
    },
    {
      "cell_type": "markdown",
      "metadata": {
        "id": "4DpysyaD8rmv"
      },
      "source": [
        "# Overfit"
      ]
    },
    {
      "cell_type": "code",
      "execution_count": 15,
      "metadata": {
        "colab": {
          "base_uri": "https://localhost:8080/",
          "height": 297
        },
        "id": "u7dOsSgZ7_Zk",
        "outputId": "d57e1547-0b76-49e9-d07c-d80cc67c30f4"
      },
      "outputs": [
        {
          "data": {
            "text/plain": [
              "<matplotlib.legend.Legend at 0x7f7640528990>"
            ]
          },
          "execution_count": 15,
          "metadata": {
            "tags": []
          },
          "output_type": "execute_result"
        },
        {
          "data": {
            "image/png": "[encoded data removed]",
            "text/plain": [
              "<Figure size 432x288 with 1 Axes>"
            ]
          },
          "metadata": {
            "needs_background": "light",
            "tags": []
          },
          "output_type": "display_data"
        }
      ],
      "source": [
        "import matplotlib.pyplot as plt\n",
        "sns.lineplot(x='max_depth', y='train', data=resultados)\n",
        "sns.lineplot(x='max_depth', y='test', data=resultados)\n",
        "plt.legend(['Train','Test'])"
      ]
    },
    {
      "cell_type": "code",
      "execution_count": 16,
      "metadata": {
        "colab": {
          "base_uri": "https://localhost:8080/",
          "height": 203
        },
        "id": "dImaMGdz84-L",
        "outputId": "6547d1f5-5915-44e9-fc5a-f6d5aa356677"
      },
      "outputs": [
        {
          "data": {
            "text/html": [
              "<div>\n",
              "<style scoped>\n",
              "    .dataframe tbody tr th:only-of-type {\n",
              "        vertical-align: middle;\n",
              "    }\n",
              "\n",
              "    .dataframe tbody tr th {\n",
              "        vertical-align: top;\n",
              "    }\n",
              "\n",
              "    .dataframe thead th {\n",
              "        text-align: right;\n",
              "    }\n",
              "</style>\n",
              "<table border=\"1\" class=\"dataframe\">\n",
              "  <thead>\n",
              "    <tr style=\"text-align: right;\">\n",
              "      <th></th>\n",
              "      <th>max_depth</th>\n",
              "      <th>train</th>\n",
              "      <th>test</th>\n",
              "    </tr>\n",
              "  </thead>\n",
              "  <tbody>\n",
              "    <tr>\n",
              "      <th>2</th>\n",
              "      <td>3</td>\n",
              "      <td>78.750993</td>\n",
              "      <td>78.672633</td>\n",
              "    </tr>\n",
              "    <tr>\n",
              "      <th>3</th>\n",
              "      <td>4</td>\n",
              "      <td>78.787628</td>\n",
              "      <td>78.632803</td>\n",
              "    </tr>\n",
              "    <tr>\n",
              "      <th>4</th>\n",
              "      <td>5</td>\n",
              "      <td>78.941007</td>\n",
              "      <td>78.555912</td>\n",
              "    </tr>\n",
              "    <tr>\n",
              "      <th>5</th>\n",
              "      <td>6</td>\n",
              "      <td>79.170115</td>\n",
              "      <td>78.123266</td>\n",
              "    </tr>\n",
              "    <tr>\n",
              "      <th>6</th>\n",
              "      <td>7</td>\n",
              "      <td>79.496806</td>\n",
              "      <td>77.963185</td>\n",
              "    </tr>\n",
              "  </tbody>\n",
              "</table>\n",
              "</div>"
            ],
            "text/plain": [
              "   max_depth      train       test\n",
              "2          3  78.750993  78.672633\n",
              "3          4  78.787628  78.632803\n",
              "4          5  78.941007  78.555912\n",
              "5          6  79.170115  78.123266\n",
              "6          7  79.496806  77.963185"
            ]
          },
          "execution_count": 16,
          "metadata": {
            "tags": []
          },
          "output_type": "execute_result"
        }
      ],
      "source": [
        "resultados.sort_values('test', ascending=False).head()"
      ]
    },
    {
      "cell_type": "markdown",
      "metadata": {
        "id": "FepdI3-Rodcd"
      },
      "source": [
        "# Explorando hiper-parámetros en dos dimensiones"
      ]
    },
    {
      "cell_type": "code",
      "execution_count": 17,
      "metadata": {
        "colab": {
          "base_uri": "https://localhost:8080/",
          "height": 1000
        },
        "id": "UCNBUPxoohXv",
        "outputId": "c6e99bd1-dbd1-4b26-cb80-79bc504d154e"
      },
      "outputs": [
        {
          "name": "stdout",
          "output_type": "stream",
          "text": [
            "Arbol max_depth = 1, min_samples_leaf = 32, training = 75.79, testing = 75.78\n",
            "Arbol max_depth = 1, min_samples_leaf = 64, training = 75.79, testing = 75.78\n",
            "Arbol max_depth = 1, min_samples_leaf = 128, training = 75.79, testing = 75.78\n",
            "Arbol max_depth = 1, min_samples_leaf = 256, training = 75.79, testing = 75.78\n",
            "Arbol max_depth = 2, min_samples_leaf = 32, training = 75.79, testing = 75.78\n",
            "Arbol max_depth = 2, min_samples_leaf = 64, training = 75.79, testing = 75.78\n",
            "Arbol max_depth = 2, min_samples_leaf = 128, training = 75.79, testing = 75.78\n",
            "Arbol max_depth = 2, min_samples_leaf = 256, training = 75.79, testing = 75.78\n",
            "Arbol max_depth = 3, min_samples_leaf = 32, training = 78.75, testing = 78.67\n",
            "Arbol max_depth = 3, min_samples_leaf = 64, training = 78.75, testing = 78.67\n",
            "Arbol max_depth = 3, min_samples_leaf = 128, training = 78.75, testing = 78.67\n",
            "Arbol max_depth = 3, min_samples_leaf = 256, training = 78.75, testing = 78.67\n",
            "Arbol max_depth = 4, min_samples_leaf = 32, training = 78.75, testing = 78.67\n",
            "Arbol max_depth = 4, min_samples_leaf = 64, training = 78.75, testing = 78.67\n",
            "Arbol max_depth = 4, min_samples_leaf = 128, training = 78.75, testing = 78.67\n",
            "Arbol max_depth = 4, min_samples_leaf = 256, training = 78.75, testing = 78.67\n",
            "Arbol max_depth = 5, min_samples_leaf = 32, training = 78.82, testing = 78.50\n",
            "Arbol max_depth = 5, min_samples_leaf = 64, training = 78.79, testing = 78.45\n",
            "Arbol max_depth = 5, min_samples_leaf = 128, training = 78.77, testing = 78.44\n",
            "Arbol max_depth = 5, min_samples_leaf = 256, training = 78.77, testing = 78.44\n",
            "Arbol max_depth = 6, min_samples_leaf = 32, training = 78.96, testing = 78.02\n",
            "Arbol max_depth = 6, min_samples_leaf = 64, training = 78.92, testing = 78.09\n",
            "Arbol max_depth = 6, min_samples_leaf = 128, training = 78.85, testing = 78.27\n",
            "Arbol max_depth = 6, min_samples_leaf = 256, training = 78.79, testing = 78.27\n",
            "Arbol max_depth = 7, min_samples_leaf = 32, training = 79.24, testing = 77.94\n",
            "Arbol max_depth = 7, min_samples_leaf = 64, training = 79.18, testing = 78.05\n",
            "Arbol max_depth = 7, min_samples_leaf = 128, training = 79.01, testing = 78.21\n",
            "Arbol max_depth = 7, min_samples_leaf = 256, training = 78.85, testing = 78.08\n",
            "Arbol max_depth = 8, min_samples_leaf = 32, training = 79.47, testing = 77.93\n",
            "Arbol max_depth = 8, min_samples_leaf = 64, training = 79.30, testing = 77.99\n",
            "Arbol max_depth = 8, min_samples_leaf = 128, training = 79.05, testing = 78.37\n",
            "Arbol max_depth = 8, min_samples_leaf = 256, training = 78.89, testing = 77.94\n",
            "Arbol max_depth = 9, min_samples_leaf = 32, training = 79.80, testing = 77.32\n",
            "Arbol max_depth = 9, min_samples_leaf = 64, training = 79.46, testing = 77.55\n",
            "Arbol max_depth = 9, min_samples_leaf = 128, training = 79.12, testing = 78.30\n",
            "Arbol max_depth = 9, min_samples_leaf = 256, training = 78.90, testing = 77.85\n",
            "Arbol max_depth = 10, min_samples_leaf = 32, training = 80.05, testing = 77.45\n",
            "Arbol max_depth = 10, min_samples_leaf = 64, training = 79.55, testing = 77.64\n",
            "Arbol max_depth = 10, min_samples_leaf = 128, training = 79.16, testing = 78.29\n",
            "Arbol max_depth = 10, min_samples_leaf = 256, training = 78.90, testing = 77.85\n",
            "Arbol max_depth = 11, min_samples_leaf = 32, training = 80.21, testing = 77.20\n",
            "Arbol max_depth = 11, min_samples_leaf = 64, training = 79.60, testing = 77.53\n",
            "Arbol max_depth = 11, min_samples_leaf = 128, training = 79.19, testing = 78.31\n",
            "Arbol max_depth = 11, min_samples_leaf = 256, training = 78.90, testing = 77.85\n",
            "Arbol max_depth = 12, min_samples_leaf = 32, training = 80.34, testing = 77.00\n",
            "Arbol max_depth = 12, min_samples_leaf = 64, training = 79.72, testing = 77.29\n",
            "Arbol max_depth = 12, min_samples_leaf = 128, training = 79.21, testing = 78.22\n",
            "Arbol max_depth = 12, min_samples_leaf = 256, training = 78.90, testing = 77.85\n",
            "Arbol max_depth = 13, min_samples_leaf = 32, training = 80.51, testing = 76.85\n",
            "Arbol max_depth = 13, min_samples_leaf = 64, training = 79.74, testing = 77.34\n",
            "Arbol max_depth = 13, min_samples_leaf = 128, training = 79.21, testing = 78.22\n",
            "Arbol max_depth = 13, min_samples_leaf = 256, training = 78.90, testing = 77.85\n",
            "Arbol max_depth = 14, min_samples_leaf = 32, training = 80.60, testing = 76.69\n",
            "Arbol max_depth = 14, min_samples_leaf = 64, training = 79.77, testing = 77.26\n",
            "Arbol max_depth = 14, min_samples_leaf = 128, training = 79.21, testing = 78.22\n",
            "Arbol max_depth = 14, min_samples_leaf = 256, training = 78.90, testing = 77.85\n",
            "Arbol max_depth = 15, min_samples_leaf = 32, training = 80.70, testing = 76.88\n",
            "Arbol max_depth = 15, min_samples_leaf = 64, training = 79.79, testing = 77.30\n",
            "Arbol max_depth = 15, min_samples_leaf = 128, training = 79.21, testing = 78.22\n",
            "Arbol max_depth = 15, min_samples_leaf = 256, training = 78.90, testing = 77.85\n",
            "Arbol max_depth = 16, min_samples_leaf = 32, training = 80.76, testing = 76.87\n",
            "Arbol max_depth = 16, min_samples_leaf = 64, training = 79.79, testing = 77.30\n",
            "Arbol max_depth = 16, min_samples_leaf = 128, training = 79.21, testing = 78.22\n",
            "Arbol max_depth = 16, min_samples_leaf = 256, training = 78.90, testing = 77.85\n",
            "Arbol max_depth = 17, min_samples_leaf = 32, training = 80.82, testing = 76.98\n",
            "Arbol max_depth = 17, min_samples_leaf = 64, training = 79.79, testing = 77.30\n",
            "Arbol max_depth = 17, min_samples_leaf = 128, training = 79.21, testing = 78.22\n",
            "Arbol max_depth = 17, min_samples_leaf = 256, training = 78.90, testing = 77.85\n",
            "Arbol max_depth = 18, min_samples_leaf = 32, training = 80.85, testing = 76.86\n",
            "Arbol max_depth = 18, min_samples_leaf = 64, training = 79.79, testing = 77.30\n",
            "Arbol max_depth = 18, min_samples_leaf = 128, training = 79.21, testing = 78.22\n",
            "Arbol max_depth = 18, min_samples_leaf = 256, training = 78.90, testing = 77.85\n",
            "Arbol max_depth = 19, min_samples_leaf = 32, training = 80.86, testing = 76.89\n",
            "Arbol max_depth = 19, min_samples_leaf = 64, training = 79.79, testing = 77.30\n",
            "Arbol max_depth = 19, min_samples_leaf = 128, training = 79.21, testing = 78.22\n",
            "Arbol max_depth = 19, min_samples_leaf = 256, training = 78.90, testing = 77.85\n",
            "Arbol max_depth = 20, min_samples_leaf = 32, training = 80.88, testing = 76.87\n",
            "Arbol max_depth = 20, min_samples_leaf = 64, training = 79.79, testing = 77.30\n",
            "Arbol max_depth = 20, min_samples_leaf = 128, training = 79.21, testing = 78.22\n",
            "Arbol max_depth = 20, min_samples_leaf = 256, training = 78.90, testing = 77.85\n",
            "Arbol max_depth = 21, min_samples_leaf = 32, training = 80.88, testing = 76.92\n",
            "Arbol max_depth = 21, min_samples_leaf = 64, training = 79.79, testing = 77.30\n",
            "Arbol max_depth = 21, min_samples_leaf = 128, training = 79.21, testing = 78.22\n",
            "Arbol max_depth = 21, min_samples_leaf = 256, training = 78.90, testing = 77.85\n",
            "Arbol max_depth = 22, min_samples_leaf = 32, training = 80.88, testing = 76.87\n",
            "Arbol max_depth = 22, min_samples_leaf = 64, training = 79.79, testing = 77.30\n",
            "Arbol max_depth = 22, min_samples_leaf = 128, training = 79.21, testing = 78.22\n",
            "Arbol max_depth = 22, min_samples_leaf = 256, training = 78.90, testing = 77.85\n",
            "Arbol max_depth = 23, min_samples_leaf = 32, training = 80.88, testing = 76.87\n",
            "Arbol max_depth = 23, min_samples_leaf = 64, training = 79.79, testing = 77.30\n",
            "Arbol max_depth = 23, min_samples_leaf = 128, training = 79.21, testing = 78.22\n",
            "Arbol max_depth = 23, min_samples_leaf = 256, training = 78.90, testing = 77.85\n",
            "Arbol max_depth = 24, min_samples_leaf = 32, training = 80.89, testing = 76.84\n",
            "Arbol max_depth = 24, min_samples_leaf = 64, training = 79.79, testing = 77.30\n",
            "Arbol max_depth = 24, min_samples_leaf = 128, training = 79.21, testing = 78.22\n",
            "Arbol max_depth = 24, min_samples_leaf = 256, training = 78.90, testing = 77.85\n",
            "Arbol max_depth = 25, min_samples_leaf = 32, training = 80.89, testing = 76.84\n",
            "Arbol max_depth = 25, min_samples_leaf = 64, training = 79.79, testing = 77.30\n",
            "Arbol max_depth = 25, min_samples_leaf = 128, training = 79.21, testing = 78.22\n",
            "Arbol max_depth = 25, min_samples_leaf = 256, training = 78.90, testing = 77.85\n",
            "Arbol max_depth = 26, min_samples_leaf = 32, training = 80.89, testing = 76.84\n",
            "Arbol max_depth = 26, min_samples_leaf = 64, training = 79.79, testing = 77.30\n",
            "Arbol max_depth = 26, min_samples_leaf = 128, training = 79.21, testing = 78.22\n",
            "Arbol max_depth = 26, min_samples_leaf = 256, training = 78.90, testing = 77.85\n",
            "Arbol max_depth = 27, min_samples_leaf = 32, training = 80.89, testing = 76.84\n",
            "Arbol max_depth = 27, min_samples_leaf = 64, training = 79.79, testing = 77.30\n",
            "Arbol max_depth = 27, min_samples_leaf = 128, training = 79.21, testing = 78.22\n",
            "Arbol max_depth = 27, min_samples_leaf = 256, training = 78.90, testing = 77.85\n",
            "Arbol max_depth = 28, min_samples_leaf = 32, training = 80.89, testing = 76.84\n",
            "Arbol max_depth = 28, min_samples_leaf = 64, training = 79.79, testing = 77.30\n",
            "Arbol max_depth = 28, min_samples_leaf = 128, training = 79.21, testing = 78.22\n",
            "Arbol max_depth = 28, min_samples_leaf = 256, training = 78.90, testing = 77.85\n",
            "Arbol max_depth = 29, min_samples_leaf = 32, training = 80.89, testing = 76.84\n",
            "Arbol max_depth = 29, min_samples_leaf = 64, training = 79.79, testing = 77.30\n",
            "Arbol max_depth = 29, min_samples_leaf = 128, training = 79.21, testing = 78.22\n",
            "Arbol max_depth = 29, min_samples_leaf = 256, training = 78.90, testing = 77.85\n",
            "Arbol max_depth = 30, min_samples_leaf = 32, training = 80.89, testing = 76.84\n",
            "Arbol max_depth = 30, min_samples_leaf = 64, training = 79.79, testing = 77.30\n",
            "Arbol max_depth = 30, min_samples_leaf = 128, training = 79.21, testing = 78.22\n",
            "Arbol max_depth = 30, min_samples_leaf = 256, training = 78.90, testing = 77.85\n",
            "Arbol max_depth = 31, min_samples_leaf = 32, training = 80.89, testing = 76.84\n",
            "Arbol max_depth = 31, min_samples_leaf = 64, training = 79.79, testing = 77.30\n",
            "Arbol max_depth = 31, min_samples_leaf = 128, training = 79.21, testing = 78.22\n",
            "Arbol max_depth = 31, min_samples_leaf = 256, training = 78.90, testing = 77.85\n",
            "Arbol max_depth = 32, min_samples_leaf = 32, training = 80.89, testing = 76.84\n",
            "Arbol max_depth = 32, min_samples_leaf = 64, training = 79.79, testing = 77.30\n",
            "Arbol max_depth = 32, min_samples_leaf = 128, training = 79.21, testing = 78.22\n",
            "Arbol max_depth = 32, min_samples_leaf = 256, training = 78.90, testing = 77.85\n"
          ]
        },
        {
          "data": {
            "text/html": [
              "<div>\n",
              "<style scoped>\n",
              "    .dataframe tbody tr th:only-of-type {\n",
              "        vertical-align: middle;\n",
              "    }\n",
              "\n",
              "    .dataframe tbody tr th {\n",
              "        vertical-align: top;\n",
              "    }\n",
              "\n",
              "    .dataframe thead th {\n",
              "        text-align: right;\n",
              "    }\n",
              "</style>\n",
              "<table border=\"1\" class=\"dataframe\">\n",
              "  <thead>\n",
              "    <tr style=\"text-align: right;\">\n",
              "      <th></th>\n",
              "      <th>max_depth</th>\n",
              "      <th>min_samples_leaf</th>\n",
              "      <th>train</th>\n",
              "      <th>test</th>\n",
              "    </tr>\n",
              "  </thead>\n",
              "  <tbody>\n",
              "    <tr>\n",
              "      <th>0</th>\n",
              "      <td>1</td>\n",
              "      <td>32</td>\n",
              "      <td>75.791169</td>\n",
              "      <td>75.784219</td>\n",
              "    </tr>\n",
              "    <tr>\n",
              "      <th>1</th>\n",
              "      <td>1</td>\n",
              "      <td>64</td>\n",
              "      <td>75.791169</td>\n",
              "      <td>75.784219</td>\n",
              "    </tr>\n",
              "    <tr>\n",
              "      <th>2</th>\n",
              "      <td>1</td>\n",
              "      <td>128</td>\n",
              "      <td>75.791169</td>\n",
              "      <td>75.784219</td>\n",
              "    </tr>\n",
              "    <tr>\n",
              "      <th>3</th>\n",
              "      <td>1</td>\n",
              "      <td>256</td>\n",
              "      <td>75.791169</td>\n",
              "      <td>75.784219</td>\n",
              "    </tr>\n",
              "    <tr>\n",
              "      <th>4</th>\n",
              "      <td>2</td>\n",
              "      <td>32</td>\n",
              "      <td>75.791169</td>\n",
              "      <td>75.784219</td>\n",
              "    </tr>\n",
              "  </tbody>\n",
              "</table>\n",
              "</div>"
            ],
            "text/plain": [
              "   max_depth  min_samples_leaf      train       test\n",
              "0          1                32  75.791169  75.784219\n",
              "1          1                64  75.791169  75.784219\n",
              "2          1               128  75.791169  75.784219\n",
              "3          1               256  75.791169  75.784219\n",
              "4          2                32  75.791169  75.784219"
            ]
          },
          "execution_count": 17,
          "metadata": {
            "tags": []
          },
          "output_type": "execute_result"
        }
      ],
      "source": [
        "def iniciar_arbol_de_decision(max_depth, min_samples_leaf):\n",
        "  SEED = 301\n",
        "  np.random.seed(SEED)\n",
        "\n",
        "  cv = GroupKFold(n_splits = 10)\n",
        "  modelo = DecisionTreeClassifier(max_depth=max_depth, min_samples_leaf=min_samples_leaf)\n",
        "  results = cross_validate(modelo, x_ord, y_ord, cv = cv, groups = datos.modelo, return_train_score=True)\n",
        "  train_score = results['train_score'].mean()*100\n",
        "  test_score = results['test_score'].mean()*100\n",
        "  print('Arbol max_depth = %d, min_samples_leaf = %d, training = %.2f, testing = %.2f' % (max_depth, min_samples_leaf, train_score, test_score))\n",
        "  tabla = [max_depth, min_samples_leaf, train_score, test_score]\n",
        "  return tabla\n",
        "\n",
        "def buscar():\n",
        "  resultados = []\n",
        "  for max_depth in range(1,33):\n",
        "    for min_samples_leaf in [32, 64, 128, 256]:\n",
        "      tabla = iniciar_arbol_de_decision(max_depth, min_samples_leaf)\n",
        "      resultados.append(tabla)\n",
        "  resultados = pd.DataFrame(resultados, columns=['max_depth','min_samples_leaf','train','test'])\n",
        "  return resultados\n",
        "\n",
        "resultados = buscar()\n",
        "resultados.head()"
      ]
    },
    {
      "cell_type": "code",
      "execution_count": 18,
      "metadata": {
        "colab": {
          "base_uri": "https://localhost:8080/",
          "height": 203
        },
        "id": "pJ-zP35_tCfF",
        "outputId": "1c4d2d6a-536b-4338-a48a-f9b09b673e9e"
      },
      "outputs": [
        {
          "data": {
            "text/html": [
              "<div>\n",
              "<style scoped>\n",
              "    .dataframe tbody tr th:only-of-type {\n",
              "        vertical-align: middle;\n",
              "    }\n",
              "\n",
              "    .dataframe tbody tr th {\n",
              "        vertical-align: top;\n",
              "    }\n",
              "\n",
              "    .dataframe thead th {\n",
              "        text-align: right;\n",
              "    }\n",
              "</style>\n",
              "<table border=\"1\" class=\"dataframe\">\n",
              "  <thead>\n",
              "    <tr style=\"text-align: right;\">\n",
              "      <th></th>\n",
              "      <th>max_depth</th>\n",
              "      <th>min_samples_leaf</th>\n",
              "      <th>train</th>\n",
              "      <th>test</th>\n",
              "    </tr>\n",
              "  </thead>\n",
              "  <tbody>\n",
              "    <tr>\n",
              "      <th>15</th>\n",
              "      <td>4</td>\n",
              "      <td>256</td>\n",
              "      <td>78.750993</td>\n",
              "      <td>78.672633</td>\n",
              "    </tr>\n",
              "    <tr>\n",
              "      <th>12</th>\n",
              "      <td>4</td>\n",
              "      <td>32</td>\n",
              "      <td>78.750993</td>\n",
              "      <td>78.672633</td>\n",
              "    </tr>\n",
              "    <tr>\n",
              "      <th>14</th>\n",
              "      <td>4</td>\n",
              "      <td>128</td>\n",
              "      <td>78.750993</td>\n",
              "      <td>78.672633</td>\n",
              "    </tr>\n",
              "    <tr>\n",
              "      <th>13</th>\n",
              "      <td>4</td>\n",
              "      <td>64</td>\n",
              "      <td>78.750993</td>\n",
              "      <td>78.672633</td>\n",
              "    </tr>\n",
              "    <tr>\n",
              "      <th>8</th>\n",
              "      <td>3</td>\n",
              "      <td>32</td>\n",
              "      <td>78.750993</td>\n",
              "      <td>78.672633</td>\n",
              "    </tr>\n",
              "  </tbody>\n",
              "</table>\n",
              "</div>"
            ],
            "text/plain": [
              "    max_depth  min_samples_leaf      train       test\n",
              "15          4               256  78.750993  78.672633\n",
              "12          4                32  78.750993  78.672633\n",
              "14          4               128  78.750993  78.672633\n",
              "13          4                64  78.750993  78.672633\n",
              "8           3                32  78.750993  78.672633"
            ]
          },
          "execution_count": 18,
          "metadata": {
            "tags": []
          },
          "output_type": "execute_result"
        }
      ],
      "source": [
        "resultados.sort_values('test', ascending = False).head()"
      ]
    },
    {
      "cell_type": "code",
      "execution_count": 19,
      "metadata": {
        "colab": {
          "base_uri": "https://localhost:8080/",
          "height": 172
        },
        "id": "EmQRjyjrupJM",
        "outputId": "ed884afb-4166-48a0-a22e-4471502856bb"
      },
      "outputs": [
        {
          "data": {
            "text/html": [
              "<div>\n",
              "<style scoped>\n",
              "    .dataframe tbody tr th:only-of-type {\n",
              "        vertical-align: middle;\n",
              "    }\n",
              "\n",
              "    .dataframe tbody tr th {\n",
              "        vertical-align: top;\n",
              "    }\n",
              "\n",
              "    .dataframe thead th {\n",
              "        text-align: right;\n",
              "    }\n",
              "</style>\n",
              "<table border=\"1\" class=\"dataframe\">\n",
              "  <thead>\n",
              "    <tr style=\"text-align: right;\">\n",
              "      <th></th>\n",
              "      <th>max_depth</th>\n",
              "      <th>min_samples_leaf</th>\n",
              "      <th>train</th>\n",
              "      <th>test</th>\n",
              "    </tr>\n",
              "  </thead>\n",
              "  <tbody>\n",
              "    <tr>\n",
              "      <th>max_depth</th>\n",
              "      <td>1.000000</td>\n",
              "      <td>0.000000</td>\n",
              "      <td>0.536705</td>\n",
              "      <td>-0.027675</td>\n",
              "    </tr>\n",
              "    <tr>\n",
              "      <th>min_samples_leaf</th>\n",
              "      <td>0.000000</td>\n",
              "      <td>1.000000</td>\n",
              "      <td>-0.409676</td>\n",
              "      <td>0.349011</td>\n",
              "    </tr>\n",
              "    <tr>\n",
              "      <th>train</th>\n",
              "      <td>0.536705</td>\n",
              "      <td>-0.409676</td>\n",
              "      <td>1.000000</td>\n",
              "      <td>0.116466</td>\n",
              "    </tr>\n",
              "    <tr>\n",
              "      <th>test</th>\n",
              "      <td>-0.027675</td>\n",
              "      <td>0.349011</td>\n",
              "      <td>0.116466</td>\n",
              "      <td>1.000000</td>\n",
              "    </tr>\n",
              "  </tbody>\n",
              "</table>\n",
              "</div>"
            ],
            "text/plain": [
              "                  max_depth  min_samples_leaf     train      test\n",
              "max_depth          1.000000          0.000000  0.536705 -0.027675\n",
              "min_samples_leaf   0.000000          1.000000 -0.409676  0.349011\n",
              "train              0.536705         -0.409676  1.000000  0.116466\n",
              "test              -0.027675          0.349011  0.116466  1.000000"
            ]
          },
          "execution_count": 19,
          "metadata": {
            "tags": []
          },
          "output_type": "execute_result"
        }
      ],
      "source": [
        "corr = resultados.corr()\n",
        "corr"
      ]
    },
    {
      "cell_type": "code",
      "execution_count": 20,
      "metadata": {
        "colab": {
          "base_uri": "https://localhost:8080/",
          "height": 365
        },
        "id": "AoyVuIEMuzF3",
        "outputId": "6d6d916e-4c3b-4ca4-ca85-4b8dfa5aaab8"
      },
      "outputs": [
        {
          "data": {
            "text/plain": [
              "<matplotlib.axes._subplots.AxesSubplot at 0x7f76404dae50>"
            ]
          },
          "execution_count": 20,
          "metadata": {
            "tags": []
          },
          "output_type": "execute_result"
        },
        {
          "data": {
            "image/png": "[encoded data removed]",
            "text/plain": [
              "<Figure size 432x288 with 2 Axes>"
            ]
          },
          "metadata": {
            "needs_background": "light",
            "tags": []
          },
          "output_type": "display_data"
        }
      ],
      "source": [
        "sns.heatmap(corr)"
      ]
    },
    {
      "cell_type": "code",
      "execution_count": 21,
      "metadata": {
        "colab": {
          "base_uri": "https://localhost:8080/",
          "height": 789
        },
        "id": "US9s5WvuvKPo",
        "outputId": "943b7d11-cecf-40a3-86f1-731723369b07"
      },
      "outputs": [
        {
          "data": {
            "text/plain": [
              "array([[<matplotlib.axes._subplots.AxesSubplot object at 0x7f7638401c10>,\n",
              "        <matplotlib.axes._subplots.AxesSubplot object at 0x7f76383bb250>,\n",
              "        <matplotlib.axes._subplots.AxesSubplot object at 0x7f763836e8d0>,\n",
              "        <matplotlib.axes._subplots.AxesSubplot object at 0x7f763831ff50>],\n",
              "       [<matplotlib.axes._subplots.AxesSubplot object at 0x7f76382db610>,\n",
              "        <matplotlib.axes._subplots.AxesSubplot object at 0x7f763828fc90>,\n",
              "        <matplotlib.axes._subplots.AxesSubplot object at 0x7f763824e3d0>,\n",
              "        <matplotlib.axes._subplots.AxesSubplot object at 0x7f7638281990>],\n",
              "       [<matplotlib.axes._subplots.AxesSubplot object at 0x7f76382819d0>,\n",
              "        <matplotlib.axes._subplots.AxesSubplot object at 0x7f7638242190>,\n",
              "        <matplotlib.axes._subplots.AxesSubplot object at 0x7f76381c2350>,\n",
              "        <matplotlib.axes._subplots.AxesSubplot object at 0x7f7638177a50>],\n",
              "       [<matplotlib.axes._subplots.AxesSubplot object at 0x7f763813a150>,\n",
              "        <matplotlib.axes._subplots.AxesSubplot object at 0x7f76380f6410>,\n",
              "        <matplotlib.axes._subplots.AxesSubplot object at 0x7f76380aba90>,\n",
              "        <matplotlib.axes._subplots.AxesSubplot object at 0x7f763806d150>]],\n",
              "      dtype=object)"
            ]
          },
          "execution_count": 21,
          "metadata": {
            "tags": []
          },
          "output_type": "execute_result"
        },
        {
          "data": {
            "image/png": "[encoded data removed]",
            "text/plain": [
              "<Figure size 1008x576 with 16 Axes>"
            ]
          },
          "metadata": {
            "needs_background": "light",
            "tags": []
          },
          "output_type": "display_data"
        }
      ],
      "source": [
        "from pandas.plotting import scatter_matrix\n",
        "scatter_matrix(resultados, figsize = (14,8), alpha=0.3)"
      ]
    },
    {
      "cell_type": "code",
      "execution_count": 22,
      "metadata": {
        "colab": {
          "base_uri": "https://localhost:8080/",
          "height": 743
        },
        "id": "5vz__PaSwJXz",
        "outputId": "1066c6c9-22f6-41d8-d233-6677fa7bd913"
      },
      "outputs": [
        {
          "data": {
            "text/plain": [
              "<seaborn.axisgrid.PairGrid at 0x7f76383c6250>"
            ]
          },
          "execution_count": 22,
          "metadata": {
            "tags": []
          },
          "output_type": "execute_result"
        },
        {
          "data": {
            "image/png": "[encoded data removed]",
            "text/plain": [
              "<Figure size 720x720 with 20 Axes>"
            ]
          },
          "metadata": {
            "needs_background": "light",
            "tags": []
          },
          "output_type": "display_data"
        }
      ],
      "source": [
        "sns.pairplot(resultados)"
      ]
    },
    {
      "cell_type": "code",
      "execution_count": 23,
      "metadata": {
        "colab": {
          "base_uri": "https://localhost:8080/",
          "height": 558
        },
        "id": "_iKehzB9wqHr",
        "outputId": "81da155c-4c5e-45ae-d678-420e84d73ee7"
      },
      "outputs": [
        {
          "data": {
            "text/plain": [
              "<matplotlib.axes._subplots.AxesSubplot at 0x7f76376e1990>"
            ]
          },
          "execution_count": 23,
          "metadata": {
            "tags": []
          },
          "output_type": "execute_result"
        },
        {
          "data": {
            "image/png": "[encoded data removed]",
            "text/plain": [
              "<Figure size 792x648 with 2 Axes>"
            ]
          },
          "metadata": {
            "tags": []
          },
          "output_type": "display_data"
        }
      ],
      "source": [
        "from string import ascii_letters\n",
        "import numpy as np\n",
        "import pandas as pd\n",
        "import seaborn as sns\n",
        "import matplotlib.pyplot as plt\n",
        "\n",
        "sns.set_theme(style=\"white\")\n",
        "\n",
        "# Generate a mask for the upper triangle\n",
        "mask = np.triu(np.ones_like(corr, dtype=bool))\n",
        "\n",
        "# Set up the matplotlib figure\n",
        "f, ax = plt.subplots(figsize=(11, 9))\n",
        "\n",
        "# Generate a custom diverging colormap\n",
        "cmap = sns.diverging_palette(230, 20, as_cmap=True)\n",
        "\n",
        "# Draw the heatmap with the mask and correct aspect ratio\n",
        "sns.heatmap(corr, mask=mask, cmap=cmap, vmax=.3, center=0,\n",
        "            square=True, linewidths=.5, cbar_kws={\"shrink\": .5})"
      ]
    },
    {
      "cell_type": "code",
      "execution_count": 24,
      "metadata": {
        "colab": {
          "base_uri": "https://localhost:8080/",
          "height": 1000
        },
        "id": "EPbV7KD4xJpm",
        "outputId": "159ade47-c53a-4d12-92d8-ecd626b93fcb"
      },
      "outputs": [
        {
          "name": "stdout",
          "output_type": "stream",
          "text": [
            "Arbol max_depth = 1, min_samples_leaf = 128, training = 75.79, testing = 75.78\n",
            "Arbol max_depth = 1, min_samples_leaf = 192, training = 75.79, testing = 75.78\n",
            "Arbol max_depth = 1, min_samples_leaf = 256, training = 75.79, testing = 75.78\n",
            "Arbol max_depth = 1, min_samples_leaf = 512, training = 75.79, testing = 75.78\n",
            "Arbol max_depth = 2, min_samples_leaf = 128, training = 75.79, testing = 75.78\n",
            "Arbol max_depth = 2, min_samples_leaf = 192, training = 75.79, testing = 75.78\n",
            "Arbol max_depth = 2, min_samples_leaf = 256, training = 75.79, testing = 75.78\n",
            "Arbol max_depth = 2, min_samples_leaf = 512, training = 75.79, testing = 75.78\n",
            "Arbol max_depth = 3, min_samples_leaf = 128, training = 78.75, testing = 78.67\n",
            "Arbol max_depth = 3, min_samples_leaf = 192, training = 78.75, testing = 78.67\n",
            "Arbol max_depth = 3, min_samples_leaf = 256, training = 78.75, testing = 78.67\n",
            "Arbol max_depth = 3, min_samples_leaf = 512, training = 77.53, testing = 77.50\n",
            "Arbol max_depth = 4, min_samples_leaf = 128, training = 78.75, testing = 78.67\n",
            "Arbol max_depth = 4, min_samples_leaf = 192, training = 78.75, testing = 78.67\n",
            "Arbol max_depth = 4, min_samples_leaf = 256, training = 78.75, testing = 78.67\n",
            "Arbol max_depth = 4, min_samples_leaf = 512, training = 77.53, testing = 77.50\n",
            "Arbol max_depth = 5, min_samples_leaf = 128, training = 78.77, testing = 78.44\n",
            "Arbol max_depth = 5, min_samples_leaf = 192, training = 78.77, testing = 78.44\n",
            "Arbol max_depth = 5, min_samples_leaf = 256, training = 78.77, testing = 78.44\n",
            "Arbol max_depth = 5, min_samples_leaf = 512, training = 77.53, testing = 77.50\n",
            "Arbol max_depth = 6, min_samples_leaf = 128, training = 78.85, testing = 78.27\n",
            "Arbol max_depth = 6, min_samples_leaf = 192, training = 78.79, testing = 78.31\n",
            "Arbol max_depth = 6, min_samples_leaf = 256, training = 78.79, testing = 78.27\n",
            "Arbol max_depth = 6, min_samples_leaf = 512, training = 77.53, testing = 77.50\n",
            "Arbol max_depth = 7, min_samples_leaf = 128, training = 79.01, testing = 78.21\n",
            "Arbol max_depth = 7, min_samples_leaf = 192, training = 78.92, testing = 78.10\n",
            "Arbol max_depth = 7, min_samples_leaf = 256, training = 78.85, testing = 78.08\n",
            "Arbol max_depth = 7, min_samples_leaf = 512, training = 77.53, testing = 77.50\n",
            "Arbol max_depth = 8, min_samples_leaf = 128, training = 79.05, testing = 78.37\n",
            "Arbol max_depth = 8, min_samples_leaf = 192, training = 78.98, testing = 78.20\n",
            "Arbol max_depth = 8, min_samples_leaf = 256, training = 78.89, testing = 77.94\n",
            "Arbol max_depth = 8, min_samples_leaf = 512, training = 77.53, testing = 77.50\n",
            "Arbol max_depth = 9, min_samples_leaf = 128, training = 79.12, testing = 78.30\n",
            "Arbol max_depth = 9, min_samples_leaf = 192, training = 78.99, testing = 78.11\n",
            "Arbol max_depth = 9, min_samples_leaf = 256, training = 78.90, testing = 77.85\n",
            "Arbol max_depth = 9, min_samples_leaf = 512, training = 77.53, testing = 77.50\n",
            "Arbol max_depth = 10, min_samples_leaf = 128, training = 79.16, testing = 78.29\n",
            "Arbol max_depth = 10, min_samples_leaf = 192, training = 79.01, testing = 78.05\n",
            "Arbol max_depth = 10, min_samples_leaf = 256, training = 78.90, testing = 77.85\n",
            "Arbol max_depth = 10, min_samples_leaf = 512, training = 77.53, testing = 77.50\n",
            "Arbol max_depth = 11, min_samples_leaf = 128, training = 79.19, testing = 78.31\n",
            "Arbol max_depth = 11, min_samples_leaf = 192, training = 79.01, testing = 78.05\n",
            "Arbol max_depth = 11, min_samples_leaf = 256, training = 78.90, testing = 77.85\n",
            "Arbol max_depth = 11, min_samples_leaf = 512, training = 77.53, testing = 77.50\n",
            "Arbol max_depth = 12, min_samples_leaf = 128, training = 79.21, testing = 78.22\n",
            "Arbol max_depth = 12, min_samples_leaf = 192, training = 79.01, testing = 78.05\n",
            "Arbol max_depth = 12, min_samples_leaf = 256, training = 78.90, testing = 77.85\n",
            "Arbol max_depth = 12, min_samples_leaf = 512, training = 77.53, testing = 77.50\n",
            "Arbol max_depth = 13, min_samples_leaf = 128, training = 79.21, testing = 78.22\n",
            "Arbol max_depth = 13, min_samples_leaf = 192, training = 79.01, testing = 78.05\n",
            "Arbol max_depth = 13, min_samples_leaf = 256, training = 78.90, testing = 77.85\n",
            "Arbol max_depth = 13, min_samples_leaf = 512, training = 77.53, testing = 77.50\n",
            "Arbol max_depth = 14, min_samples_leaf = 128, training = 79.21, testing = 78.22\n",
            "Arbol max_depth = 14, min_samples_leaf = 192, training = 79.01, testing = 78.05\n",
            "Arbol max_depth = 14, min_samples_leaf = 256, training = 78.90, testing = 77.85\n",
            "Arbol max_depth = 14, min_samples_leaf = 512, training = 77.53, testing = 77.50\n",
            "Arbol max_depth = 15, min_samples_leaf = 128, training = 79.21, testing = 78.22\n",
            "Arbol max_depth = 15, min_samples_leaf = 192, training = 79.01, testing = 78.05\n",
            "Arbol max_depth = 15, min_samples_leaf = 256, training = 78.90, testing = 77.85\n",
            "Arbol max_depth = 15, min_samples_leaf = 512, training = 77.53, testing = 77.50\n",
            "Arbol max_depth = 16, min_samples_leaf = 128, training = 79.21, testing = 78.22\n",
            "Arbol max_depth = 16, min_samples_leaf = 192, training = 79.01, testing = 78.05\n",
            "Arbol max_depth = 16, min_samples_leaf = 256, training = 78.90, testing = 77.85\n",
            "Arbol max_depth = 16, min_samples_leaf = 512, training = 77.53, testing = 77.50\n",
            "Arbol max_depth = 17, min_samples_leaf = 128, training = 79.21, testing = 78.22\n",
            "Arbol max_depth = 17, min_samples_leaf = 192, training = 79.01, testing = 78.05\n",
            "Arbol max_depth = 17, min_samples_leaf = 256, training = 78.90, testing = 77.85\n",
            "Arbol max_depth = 17, min_samples_leaf = 512, training = 77.53, testing = 77.50\n",
            "Arbol max_depth = 18, min_samples_leaf = 128, training = 79.21, testing = 78.22\n",
            "Arbol max_depth = 18, min_samples_leaf = 192, training = 79.01, testing = 78.05\n",
            "Arbol max_depth = 18, min_samples_leaf = 256, training = 78.90, testing = 77.85\n",
            "Arbol max_depth = 18, min_samples_leaf = 512, training = 77.53, testing = 77.50\n",
            "Arbol max_depth = 19, min_samples_leaf = 128, training = 79.21, testing = 78.22\n",
            "Arbol max_depth = 19, min_samples_leaf = 192, training = 79.01, testing = 78.05\n",
            "Arbol max_depth = 19, min_samples_leaf = 256, training = 78.90, testing = 77.85\n",
            "Arbol max_depth = 19, min_samples_leaf = 512, training = 77.53, testing = 77.50\n",
            "Arbol max_depth = 20, min_samples_leaf = 128, training = 79.21, testing = 78.22\n",
            "Arbol max_depth = 20, min_samples_leaf = 192, training = 79.01, testing = 78.05\n",
            "Arbol max_depth = 20, min_samples_leaf = 256, training = 78.90, testing = 77.85\n",
            "Arbol max_depth = 20, min_samples_leaf = 512, training = 77.53, testing = 77.50\n",
            "Arbol max_depth = 21, min_samples_leaf = 128, training = 79.21, testing = 78.22\n",
            "Arbol max_depth = 21, min_samples_leaf = 192, training = 79.01, testing = 78.05\n",
            "Arbol max_depth = 21, min_samples_leaf = 256, training = 78.90, testing = 77.85\n",
            "Arbol max_depth = 21, min_samples_leaf = 512, training = 77.53, testing = 77.50\n",
            "Arbol max_depth = 22, min_samples_leaf = 128, training = 79.21, testing = 78.22\n",
            "Arbol max_depth = 22, min_samples_leaf = 192, training = 79.01, testing = 78.05\n",
            "Arbol max_depth = 22, min_samples_leaf = 256, training = 78.90, testing = 77.85\n",
            "Arbol max_depth = 22, min_samples_leaf = 512, training = 77.53, testing = 77.50\n",
            "Arbol max_depth = 23, min_samples_leaf = 128, training = 79.21, testing = 78.22\n",
            "Arbol max_depth = 23, min_samples_leaf = 192, training = 79.01, testing = 78.05\n",
            "Arbol max_depth = 23, min_samples_leaf = 256, training = 78.90, testing = 77.85\n",
            "Arbol max_depth = 23, min_samples_leaf = 512, training = 77.53, testing = 77.50\n",
            "Arbol max_depth = 24, min_samples_leaf = 128, training = 79.21, testing = 78.22\n",
            "Arbol max_depth = 24, min_samples_leaf = 192, training = 79.01, testing = 78.05\n",
            "Arbol max_depth = 24, min_samples_leaf = 256, training = 78.90, testing = 77.85\n",
            "Arbol max_depth = 24, min_samples_leaf = 512, training = 77.53, testing = 77.50\n",
            "Arbol max_depth = 25, min_samples_leaf = 128, training = 79.21, testing = 78.22\n",
            "Arbol max_depth = 25, min_samples_leaf = 192, training = 79.01, testing = 78.05\n",
            "Arbol max_depth = 25, min_samples_leaf = 256, training = 78.90, testing = 77.85\n",
            "Arbol max_depth = 25, min_samples_leaf = 512, training = 77.53, testing = 77.50\n",
            "Arbol max_depth = 26, min_samples_leaf = 128, training = 79.21, testing = 78.22\n",
            "Arbol max_depth = 26, min_samples_leaf = 192, training = 79.01, testing = 78.05\n",
            "Arbol max_depth = 26, min_samples_leaf = 256, training = 78.90, testing = 77.85\n",
            "Arbol max_depth = 26, min_samples_leaf = 512, training = 77.53, testing = 77.50\n",
            "Arbol max_depth = 27, min_samples_leaf = 128, training = 79.21, testing = 78.22\n",
            "Arbol max_depth = 27, min_samples_leaf = 192, training = 79.01, testing = 78.05\n",
            "Arbol max_depth = 27, min_samples_leaf = 256, training = 78.90, testing = 77.85\n",
            "Arbol max_depth = 27, min_samples_leaf = 512, training = 77.53, testing = 77.50\n",
            "Arbol max_depth = 28, min_samples_leaf = 128, training = 79.21, testing = 78.22\n",
            "Arbol max_depth = 28, min_samples_leaf = 192, training = 79.01, testing = 78.05\n",
            "Arbol max_depth = 28, min_samples_leaf = 256, training = 78.90, testing = 77.85\n",
            "Arbol max_depth = 28, min_samples_leaf = 512, training = 77.53, testing = 77.50\n",
            "Arbol max_depth = 29, min_samples_leaf = 128, training = 79.21, testing = 78.22\n",
            "Arbol max_depth = 29, min_samples_leaf = 192, training = 79.01, testing = 78.05\n",
            "Arbol max_depth = 29, min_samples_leaf = 256, training = 78.90, testing = 77.85\n",
            "Arbol max_depth = 29, min_samples_leaf = 512, training = 77.53, testing = 77.50\n",
            "Arbol max_depth = 30, min_samples_leaf = 128, training = 79.21, testing = 78.22\n",
            "Arbol max_depth = 30, min_samples_leaf = 192, training = 79.01, testing = 78.05\n",
            "Arbol max_depth = 30, min_samples_leaf = 256, training = 78.90, testing = 77.85\n",
            "Arbol max_depth = 30, min_samples_leaf = 512, training = 77.53, testing = 77.50\n",
            "Arbol max_depth = 31, min_samples_leaf = 128, training = 79.21, testing = 78.22\n",
            "Arbol max_depth = 31, min_samples_leaf = 192, training = 79.01, testing = 78.05\n",
            "Arbol max_depth = 31, min_samples_leaf = 256, training = 78.90, testing = 77.85\n",
            "Arbol max_depth = 31, min_samples_leaf = 512, training = 77.53, testing = 77.50\n",
            "Arbol max_depth = 32, min_samples_leaf = 128, training = 79.21, testing = 78.22\n",
            "Arbol max_depth = 32, min_samples_leaf = 192, training = 79.01, testing = 78.05\n",
            "Arbol max_depth = 32, min_samples_leaf = 256, training = 78.90, testing = 77.85\n",
            "Arbol max_depth = 32, min_samples_leaf = 512, training = 77.53, testing = 77.50\n"
          ]
        },
        {
          "data": {
            "text/html": [
              "<div>\n",
              "<style scoped>\n",
              "    .dataframe tbody tr th:only-of-type {\n",
              "        vertical-align: middle;\n",
              "    }\n",
              "\n",
              "    .dataframe tbody tr th {\n",
              "        vertical-align: top;\n",
              "    }\n",
              "\n",
              "    .dataframe thead th {\n",
              "        text-align: right;\n",
              "    }\n",
              "</style>\n",
              "<table border=\"1\" class=\"dataframe\">\n",
              "  <thead>\n",
              "    <tr style=\"text-align: right;\">\n",
              "      <th></th>\n",
              "      <th>max_depth</th>\n",
              "      <th>min_samples_leaf</th>\n",
              "      <th>train</th>\n",
              "      <th>test</th>\n",
              "    </tr>\n",
              "  </thead>\n",
              "  <tbody>\n",
              "    <tr>\n",
              "      <th>0</th>\n",
              "      <td>1</td>\n",
              "      <td>128</td>\n",
              "      <td>75.791169</td>\n",
              "      <td>75.784219</td>\n",
              "    </tr>\n",
              "    <tr>\n",
              "      <th>1</th>\n",
              "      <td>1</td>\n",
              "      <td>192</td>\n",
              "      <td>75.791169</td>\n",
              "      <td>75.784219</td>\n",
              "    </tr>\n",
              "    <tr>\n",
              "      <th>2</th>\n",
              "      <td>1</td>\n",
              "      <td>256</td>\n",
              "      <td>75.791169</td>\n",
              "      <td>75.784219</td>\n",
              "    </tr>\n",
              "    <tr>\n",
              "      <th>3</th>\n",
              "      <td>1</td>\n",
              "      <td>512</td>\n",
              "      <td>75.791169</td>\n",
              "      <td>75.784219</td>\n",
              "    </tr>\n",
              "    <tr>\n",
              "      <th>4</th>\n",
              "      <td>2</td>\n",
              "      <td>128</td>\n",
              "      <td>75.791169</td>\n",
              "      <td>75.784219</td>\n",
              "    </tr>\n",
              "  </tbody>\n",
              "</table>\n",
              "</div>"
            ],
            "text/plain": [
              "   max_depth  min_samples_leaf      train       test\n",
              "0          1               128  75.791169  75.784219\n",
              "1          1               192  75.791169  75.784219\n",
              "2          1               256  75.791169  75.784219\n",
              "3          1               512  75.791169  75.784219\n",
              "4          2               128  75.791169  75.784219"
            ]
          },
          "execution_count": 24,
          "metadata": {
            "tags": []
          },
          "output_type": "execute_result"
        }
      ],
      "source": [
        "def buscar():\n",
        "  resultados = []\n",
        "  for max_depth in range(1,33):\n",
        "    for min_samples_leaf in [128, 192, 256, 512]:\n",
        "      tabla = iniciar_arbol_de_decision(max_depth, min_samples_leaf)\n",
        "      resultados.append(tabla)\n",
        "  resultados = pd.DataFrame(resultados, columns=['max_depth','min_samples_leaf','train','test'])\n",
        "  return resultados\n",
        "\n",
        "resultados = buscar()\n",
        "resultados.head()"
      ]
    },
    {
      "cell_type": "code",
      "execution_count": 25,
      "metadata": {
        "id": "IhUpvPBtxd0T"
      },
      "outputs": [],
      "source": [
        "corr = resultados.corr()"
      ]
    },
    {
      "cell_type": "code",
      "execution_count": 26,
      "metadata": {
        "colab": {
          "base_uri": "https://localhost:8080/",
          "height": 558
        },
        "id": "HrQSQZXBxmD-",
        "outputId": "ee848d04-4e19-48bd-84ad-0e836b933d60"
      },
      "outputs": [
        {
          "data": {
            "text/plain": [
              "<matplotlib.axes._subplots.AxesSubplot at 0x7f76376ac250>"
            ]
          },
          "execution_count": 26,
          "metadata": {
            "tags": []
          },
          "output_type": "execute_result"
        },
        {
          "data": {
            "image/png": "[encoded data removed]",
            "text/plain": [
              "<Figure size 792x648 with 2 Axes>"
            ]
          },
          "metadata": {
            "tags": []
          },
          "output_type": "display_data"
        }
      ],
      "source": [
        "sns.set_theme(style=\"white\")\n",
        "\n",
        "# Generate a mask for the upper triangle\n",
        "mask = np.triu(np.ones_like(corr, dtype=bool))\n",
        "\n",
        "# Set up the matplotlib figure\n",
        "f, ax = plt.subplots(figsize=(11, 9))\n",
        "\n",
        "# Generate a custom diverging colormap\n",
        "cmap = sns.diverging_palette(230, 20, as_cmap=True)\n",
        "\n",
        "# Draw the heatmap with the mask and correct aspect ratio\n",
        "sns.heatmap(corr, mask=mask, cmap=cmap, vmax=.3, center=0,\n",
        "            square=True, linewidths=.5, cbar_kws={\"shrink\": .5})"
      ]
    },
    {
      "cell_type": "code",
      "execution_count": 27,
      "metadata": {
        "colab": {
          "base_uri": "https://localhost:8080/",
          "height": 203
        },
        "id": "Sfxcm883yLAm",
        "outputId": "738c1e6a-b58d-4b3e-ada1-9d199d24a08e"
      },
      "outputs": [
        {
          "data": {
            "text/html": [
              "<div>\n",
              "<style scoped>\n",
              "    .dataframe tbody tr th:only-of-type {\n",
              "        vertical-align: middle;\n",
              "    }\n",
              "\n",
              "    .dataframe tbody tr th {\n",
              "        vertical-align: top;\n",
              "    }\n",
              "\n",
              "    .dataframe thead th {\n",
              "        text-align: right;\n",
              "    }\n",
              "</style>\n",
              "<table border=\"1\" class=\"dataframe\">\n",
              "  <thead>\n",
              "    <tr style=\"text-align: right;\">\n",
              "      <th></th>\n",
              "      <th>max_depth</th>\n",
              "      <th>min_samples_leaf</th>\n",
              "      <th>train</th>\n",
              "      <th>test</th>\n",
              "    </tr>\n",
              "  </thead>\n",
              "  <tbody>\n",
              "    <tr>\n",
              "      <th>13</th>\n",
              "      <td>4</td>\n",
              "      <td>192</td>\n",
              "      <td>78.750993</td>\n",
              "      <td>78.672633</td>\n",
              "    </tr>\n",
              "    <tr>\n",
              "      <th>8</th>\n",
              "      <td>3</td>\n",
              "      <td>128</td>\n",
              "      <td>78.750993</td>\n",
              "      <td>78.672633</td>\n",
              "    </tr>\n",
              "    <tr>\n",
              "      <th>9</th>\n",
              "      <td>3</td>\n",
              "      <td>192</td>\n",
              "      <td>78.750993</td>\n",
              "      <td>78.672633</td>\n",
              "    </tr>\n",
              "    <tr>\n",
              "      <th>10</th>\n",
              "      <td>3</td>\n",
              "      <td>256</td>\n",
              "      <td>78.750993</td>\n",
              "      <td>78.672633</td>\n",
              "    </tr>\n",
              "    <tr>\n",
              "      <th>14</th>\n",
              "      <td>4</td>\n",
              "      <td>256</td>\n",
              "      <td>78.750993</td>\n",
              "      <td>78.672633</td>\n",
              "    </tr>\n",
              "  </tbody>\n",
              "</table>\n",
              "</div>"
            ],
            "text/plain": [
              "    max_depth  min_samples_leaf      train       test\n",
              "13          4               192  78.750993  78.672633\n",
              "8           3               128  78.750993  78.672633\n",
              "9           3               192  78.750993  78.672633\n",
              "10          3               256  78.750993  78.672633\n",
              "14          4               256  78.750993  78.672633"
            ]
          },
          "execution_count": 27,
          "metadata": {
            "tags": []
          },
          "output_type": "execute_result"
        }
      ],
      "source": [
        "resultados.sort_values('test', ascending = False).head()"
      ]
    },
    {
      "cell_type": "markdown",
      "metadata": {
        "id": "TRX_6AqX_Tei"
      },
      "source": [
        "# Explorando 3 dimensiones de hiper parámetros"
      ]
    },
    {
      "cell_type": "code",
      "execution_count": 35,
      "metadata": {
        "colab": {
          "base_uri": "https://localhost:8080/",
          "height": 203
        },
        "id": "DDX-EfVW_bDc",
        "outputId": "f4ecb8fe-8631-4899-ff9c-028e588380fe"
      },
      "outputs": [
        {
          "data": {
            "text/html": [
              "<div>\n",
              "<style scoped>\n",
              "    .dataframe tbody tr th:only-of-type {\n",
              "        vertical-align: middle;\n",
              "    }\n",
              "\n",
              "    .dataframe tbody tr th {\n",
              "        vertical-align: top;\n",
              "    }\n",
              "\n",
              "    .dataframe thead th {\n",
              "        text-align: right;\n",
              "    }\n",
              "</style>\n",
              "<table border=\"1\" class=\"dataframe\">\n",
              "  <thead>\n",
              "    <tr style=\"text-align: right;\">\n",
              "      <th></th>\n",
              "      <th>max_depth</th>\n",
              "      <th>min_samples_leaf</th>\n",
              "      <th>min_samples_split</th>\n",
              "      <th>train</th>\n",
              "      <th>test</th>\n",
              "      <th>fit_time</th>\n",
              "      <th>score_time</th>\n",
              "    </tr>\n",
              "  </thead>\n",
              "  <tbody>\n",
              "    <tr>\n",
              "      <th>0</th>\n",
              "      <td>1</td>\n",
              "      <td>32</td>\n",
              "      <td>32</td>\n",
              "      <td>75.791169</td>\n",
              "      <td>75.784219</td>\n",
              "      <td>0.005485</td>\n",
              "      <td>0.001134</td>\n",
              "    </tr>\n",
              "    <tr>\n",
              "      <th>1</th>\n",
              "      <td>1</td>\n",
              "      <td>32</td>\n",
              "      <td>64</td>\n",
              "      <td>75.791169</td>\n",
              "      <td>75.784219</td>\n",
              "      <td>0.005217</td>\n",
              "      <td>0.001044</td>\n",
              "    </tr>\n",
              "    <tr>\n",
              "      <th>2</th>\n",
              "      <td>1</td>\n",
              "      <td>32</td>\n",
              "      <td>128</td>\n",
              "      <td>75.791169</td>\n",
              "      <td>75.784219</td>\n",
              "      <td>0.005377</td>\n",
              "      <td>0.001109</td>\n",
              "    </tr>\n",
              "    <tr>\n",
              "      <th>3</th>\n",
              "      <td>1</td>\n",
              "      <td>32</td>\n",
              "      <td>256</td>\n",
              "      <td>75.791169</td>\n",
              "      <td>75.784219</td>\n",
              "      <td>0.005319</td>\n",
              "      <td>0.001077</td>\n",
              "    </tr>\n",
              "    <tr>\n",
              "      <th>4</th>\n",
              "      <td>1</td>\n",
              "      <td>64</td>\n",
              "      <td>32</td>\n",
              "      <td>75.791169</td>\n",
              "      <td>75.784219</td>\n",
              "      <td>0.005438</td>\n",
              "      <td>0.001085</td>\n",
              "    </tr>\n",
              "  </tbody>\n",
              "</table>\n",
              "</div>"
            ],
            "text/plain": [
              "   max_depth  min_samples_leaf  ...  fit_time  score_time\n",
              "0          1                32  ...  0.005485    0.001134\n",
              "1          1                32  ...  0.005217    0.001044\n",
              "2          1                32  ...  0.005377    0.001109\n",
              "3          1                32  ...  0.005319    0.001077\n",
              "4          1                64  ...  0.005438    0.001085\n",
              "\n",
              "[5 rows x 7 columns]"
            ]
          },
          "execution_count": 35,
          "metadata": {
            "tags": []
          },
          "output_type": "execute_result"
        }
      ],
      "source": [
        "def iniciar_arbol_de_decision(max_depth, min_samples_leaf, min_samples_split):\n",
        "  SEED = 301\n",
        "  np.random.seed(SEED)\n",
        "\n",
        "  cv = GroupKFold(n_splits = 10)\n",
        "  modelo = DecisionTreeClassifier(max_depth=max_depth, min_samples_leaf=min_samples_leaf, min_samples_split=min_samples_split)\n",
        "  results = cross_validate(modelo, x_ord, y_ord, cv = cv, groups = datos.modelo, return_train_score=True)\n",
        "  fit_time = results['fit_time'].mean()\n",
        "  score_time = results['score_time'].mean()\n",
        "  train_score = results['train_score'].mean()*100\n",
        "  test_score = results['test_score'].mean()*100\n",
        "  #print('Arbol max_depth = %d, min_samples_leaf = %d, min_samples_split = %d, training = %.2f, testing = %.2f' % (max_depth, min_samples_leaf, min_samples_split, train_score, test_score))\n",
        "  tabla = [max_depth, min_samples_leaf, min_samples_split, train_score, test_score, fit_time, score_time]\n",
        "  return tabla\n",
        "\n",
        "def buscar():\n",
        "  resultados = []\n",
        "  for max_depth in range(1,33):\n",
        "    for min_samples_leaf in [32, 64, 128, 256]:\n",
        "      for min_samples_split in [32, 64, 128, 256]:\n",
        "        tabla = iniciar_arbol_de_decision(max_depth, min_samples_leaf,min_samples_split)\n",
        "        resultados.append(tabla)\n",
        "  resultados = pd.DataFrame(resultados, columns=['max_depth','min_samples_leaf', 'min_samples_split', 'train','test','fit_time', 'score_time'])\n",
        "  return resultados\n",
        "\n",
        "resultados = buscar()\n",
        "resultados.head()"
      ]
    },
    {
      "cell_type": "code",
      "execution_count": 36,
      "metadata": {
        "id": "ooBpAOGRBOCl"
      },
      "outputs": [],
      "source": [
        "corr = resultados.corr()"
      ]
    },
    {
      "cell_type": "code",
      "execution_count": 37,
      "metadata": {
        "colab": {
          "base_uri": "https://localhost:8080/",
          "height": 648
        },
        "id": "efhMcckVBVFd",
        "outputId": "98b6ebd6-2ecb-40d0-ada3-4a66effe781b"
      },
      "outputs": [
        {
          "data": {
            "text/plain": [
              "<matplotlib.axes._subplots.AxesSubplot at 0x7f7637316a10>"
            ]
          },
          "execution_count": 37,
          "metadata": {
            "tags": []
          },
          "output_type": "execute_result"
        },
        {
          "data": {
            "image/png": "[encoded data removed]",
            "text/plain": [
              "<Figure size 792x648 with 2 Axes>"
            ]
          },
          "metadata": {
            "tags": []
          },
          "output_type": "display_data"
        }
      ],
      "source": [
        "sns.set_theme(style=\"white\")\n",
        "\n",
        "# Generate a mask for the upper triangle\n",
        "mask = np.triu(np.ones_like(corr, dtype=bool))\n",
        "\n",
        "# Set up the matplotlib figure\n",
        "f, ax = plt.subplots(figsize=(11, 9))\n",
        "\n",
        "# Generate a custom diverging colormap\n",
        "cmap = sns.diverging_palette(230, 20, as_cmap=True)\n",
        "\n",
        "# Draw the heatmap with the mask and correct aspect ratio\n",
        "sns.heatmap(corr, mask=mask, cmap=cmap, vmax=.3, center=0,\n",
        "            square=True, linewidths=.5, cbar_kws={\"shrink\": .5})"
      ]
    },
    {
      "cell_type": "code",
      "execution_count": 38,
      "metadata": {
        "colab": {
          "base_uri": "https://localhost:8080/",
          "height": 203
        },
        "id": "Y-DZmjf-BhCW",
        "outputId": "cd3d02e5-f3a8-45d9-fdc1-e3e4c3cf3a35"
      },
      "outputs": [
        {
          "data": {
            "text/html": [
              "<div>\n",
              "<style scoped>\n",
              "    .dataframe tbody tr th:only-of-type {\n",
              "        vertical-align: middle;\n",
              "    }\n",
              "\n",
              "    .dataframe tbody tr th {\n",
              "        vertical-align: top;\n",
              "    }\n",
              "\n",
              "    .dataframe thead th {\n",
              "        text-align: right;\n",
              "    }\n",
              "</style>\n",
              "<table border=\"1\" class=\"dataframe\">\n",
              "  <thead>\n",
              "    <tr style=\"text-align: right;\">\n",
              "      <th></th>\n",
              "      <th>max_depth</th>\n",
              "      <th>min_samples_leaf</th>\n",
              "      <th>min_samples_split</th>\n",
              "      <th>train</th>\n",
              "      <th>test</th>\n",
              "      <th>fit_time</th>\n",
              "      <th>score_time</th>\n",
              "    </tr>\n",
              "  </thead>\n",
              "  <tbody>\n",
              "    <tr>\n",
              "      <th>63</th>\n",
              "      <td>4</td>\n",
              "      <td>256</td>\n",
              "      <td>256</td>\n",
              "      <td>78.750993</td>\n",
              "      <td>78.672633</td>\n",
              "      <td>0.011831</td>\n",
              "      <td>0.001351</td>\n",
              "    </tr>\n",
              "    <tr>\n",
              "      <th>48</th>\n",
              "      <td>4</td>\n",
              "      <td>32</td>\n",
              "      <td>32</td>\n",
              "      <td>78.750993</td>\n",
              "      <td>78.672633</td>\n",
              "      <td>0.012202</td>\n",
              "      <td>0.001365</td>\n",
              "    </tr>\n",
              "    <tr>\n",
              "      <th>34</th>\n",
              "      <td>3</td>\n",
              "      <td>32</td>\n",
              "      <td>128</td>\n",
              "      <td>78.750993</td>\n",
              "      <td>78.672633</td>\n",
              "      <td>0.010386</td>\n",
              "      <td>0.001244</td>\n",
              "    </tr>\n",
              "    <tr>\n",
              "      <th>35</th>\n",
              "      <td>3</td>\n",
              "      <td>32</td>\n",
              "      <td>256</td>\n",
              "      <td>78.750993</td>\n",
              "      <td>78.672633</td>\n",
              "      <td>0.010263</td>\n",
              "      <td>0.001294</td>\n",
              "    </tr>\n",
              "    <tr>\n",
              "      <th>36</th>\n",
              "      <td>3</td>\n",
              "      <td>64</td>\n",
              "      <td>32</td>\n",
              "      <td>78.750993</td>\n",
              "      <td>78.672633</td>\n",
              "      <td>0.010193</td>\n",
              "      <td>0.001303</td>\n",
              "    </tr>\n",
              "  </tbody>\n",
              "</table>\n",
              "</div>"
            ],
            "text/plain": [
              "    max_depth  min_samples_leaf  ...  fit_time  score_time\n",
              "63          4               256  ...  0.011831    0.001351\n",
              "48          4                32  ...  0.012202    0.001365\n",
              "34          3                32  ...  0.010386    0.001244\n",
              "35          3                32  ...  0.010263    0.001294\n",
              "36          3                64  ...  0.010193    0.001303\n",
              "\n",
              "[5 rows x 7 columns]"
            ]
          },
          "execution_count": 38,
          "metadata": {
            "tags": []
          },
          "output_type": "execute_result"
        }
      ],
      "source": [
        "resultados.sort_values('test', ascending = False).head()"
      ]
    },
    {
      "cell_type": "markdown",
      "metadata": {
        "id": "AV1jgULSJfkq"
      },
      "source": [
        "# Explorando espacio de hiper parámetros con GridSearchCV"
      ]
    },
    {
      "cell_type": "code",
      "execution_count": 40,
      "metadata": {
        "colab": {
          "base_uri": "https://localhost:8080/",
          "height": 559
        },
        "id": "fR4k2q5zJjU2",
        "outputId": "b58779d2-a237-4536-dff3-32ff1157518a"
      },
      "outputs": [
        {
          "data": {
            "text/html": [
              "<div>\n",
              "<style scoped>\n",
              "    .dataframe tbody tr th:only-of-type {\n",
              "        vertical-align: middle;\n",
              "    }\n",
              "\n",
              "    .dataframe tbody tr th {\n",
              "        vertical-align: top;\n",
              "    }\n",
              "\n",
              "    .dataframe thead th {\n",
              "        text-align: right;\n",
              "    }\n",
              "</style>\n",
              "<table border=\"1\" class=\"dataframe\">\n",
              "  <thead>\n",
              "    <tr style=\"text-align: right;\">\n",
              "      <th></th>\n",
              "      <th>mean_fit_time</th>\n",
              "      <th>std_fit_time</th>\n",
              "      <th>mean_score_time</th>\n",
              "      <th>std_score_time</th>\n",
              "      <th>param_criterion</th>\n",
              "      <th>param_max_depth</th>\n",
              "      <th>param_min_samples_leaf</th>\n",
              "      <th>param_min_samples_split</th>\n",
              "      <th>params</th>\n",
              "      <th>split0_test_score</th>\n",
              "      <th>split1_test_score</th>\n",
              "      <th>split2_test_score</th>\n",
              "      <th>split3_test_score</th>\n",
              "      <th>split4_test_score</th>\n",
              "      <th>split5_test_score</th>\n",
              "      <th>split6_test_score</th>\n",
              "      <th>split7_test_score</th>\n",
              "      <th>split8_test_score</th>\n",
              "      <th>split9_test_score</th>\n",
              "      <th>mean_test_score</th>\n",
              "      <th>std_test_score</th>\n",
              "      <th>rank_test_score</th>\n",
              "    </tr>\n",
              "  </thead>\n",
              "  <tbody>\n",
              "    <tr>\n",
              "      <th>0</th>\n",
              "      <td>0.010380</td>\n",
              "      <td>0.000591</td>\n",
              "      <td>0.001180</td>\n",
              "      <td>0.000076</td>\n",
              "      <td>gini</td>\n",
              "      <td>3</td>\n",
              "      <td>32</td>\n",
              "      <td>32</td>\n",
              "      <td>{'criterion': 'gini', 'max_depth': 3, 'min_sam...</td>\n",
              "      <td>0.804757</td>\n",
              "      <td>0.793667</td>\n",
              "      <td>0.793313</td>\n",
              "      <td>0.78408</td>\n",
              "      <td>0.783181</td>\n",
              "      <td>0.797809</td>\n",
              "      <td>0.762866</td>\n",
              "      <td>0.781818</td>\n",
              "      <td>0.77551</td>\n",
              "      <td>0.790262</td>\n",
              "      <td>0.786726</td>\n",
              "      <td>0.011361</td>\n",
              "      <td>1</td>\n",
              "    </tr>\n",
              "    <tr>\n",
              "      <th>1</th>\n",
              "      <td>0.010406</td>\n",
              "      <td>0.000426</td>\n",
              "      <td>0.001234</td>\n",
              "      <td>0.000096</td>\n",
              "      <td>gini</td>\n",
              "      <td>3</td>\n",
              "      <td>32</td>\n",
              "      <td>64</td>\n",
              "      <td>{'criterion': 'gini', 'max_depth': 3, 'min_sam...</td>\n",
              "      <td>0.804757</td>\n",
              "      <td>0.793667</td>\n",
              "      <td>0.793313</td>\n",
              "      <td>0.78408</td>\n",
              "      <td>0.783181</td>\n",
              "      <td>0.797809</td>\n",
              "      <td>0.762866</td>\n",
              "      <td>0.781818</td>\n",
              "      <td>0.77551</td>\n",
              "      <td>0.790262</td>\n",
              "      <td>0.786726</td>\n",
              "      <td>0.011361</td>\n",
              "      <td>1</td>\n",
              "    </tr>\n",
              "    <tr>\n",
              "      <th>2</th>\n",
              "      <td>0.010133</td>\n",
              "      <td>0.000159</td>\n",
              "      <td>0.001147</td>\n",
              "      <td>0.000075</td>\n",
              "      <td>gini</td>\n",
              "      <td>3</td>\n",
              "      <td>32</td>\n",
              "      <td>128</td>\n",
              "      <td>{'criterion': 'gini', 'max_depth': 3, 'min_sam...</td>\n",
              "      <td>0.804757</td>\n",
              "      <td>0.793667</td>\n",
              "      <td>0.793313</td>\n",
              "      <td>0.78408</td>\n",
              "      <td>0.783181</td>\n",
              "      <td>0.797809</td>\n",
              "      <td>0.762866</td>\n",
              "      <td>0.781818</td>\n",
              "      <td>0.77551</td>\n",
              "      <td>0.790262</td>\n",
              "      <td>0.786726</td>\n",
              "      <td>0.011361</td>\n",
              "      <td>1</td>\n",
              "    </tr>\n",
              "    <tr>\n",
              "      <th>3</th>\n",
              "      <td>0.010311</td>\n",
              "      <td>0.000582</td>\n",
              "      <td>0.001120</td>\n",
              "      <td>0.000059</td>\n",
              "      <td>gini</td>\n",
              "      <td>3</td>\n",
              "      <td>64</td>\n",
              "      <td>32</td>\n",
              "      <td>{'criterion': 'gini', 'max_depth': 3, 'min_sam...</td>\n",
              "      <td>0.804757</td>\n",
              "      <td>0.793667</td>\n",
              "      <td>0.793313</td>\n",
              "      <td>0.78408</td>\n",
              "      <td>0.783181</td>\n",
              "      <td>0.797809</td>\n",
              "      <td>0.762866</td>\n",
              "      <td>0.781818</td>\n",
              "      <td>0.77551</td>\n",
              "      <td>0.790262</td>\n",
              "      <td>0.786726</td>\n",
              "      <td>0.011361</td>\n",
              "      <td>1</td>\n",
              "    </tr>\n",
              "    <tr>\n",
              "      <th>4</th>\n",
              "      <td>0.010720</td>\n",
              "      <td>0.000788</td>\n",
              "      <td>0.001279</td>\n",
              "      <td>0.000249</td>\n",
              "      <td>gini</td>\n",
              "      <td>3</td>\n",
              "      <td>64</td>\n",
              "      <td>64</td>\n",
              "      <td>{'criterion': 'gini', 'max_depth': 3, 'min_sam...</td>\n",
              "      <td>0.804757</td>\n",
              "      <td>0.793667</td>\n",
              "      <td>0.793313</td>\n",
              "      <td>0.78408</td>\n",
              "      <td>0.783181</td>\n",
              "      <td>0.797809</td>\n",
              "      <td>0.762866</td>\n",
              "      <td>0.781818</td>\n",
              "      <td>0.77551</td>\n",
              "      <td>0.790262</td>\n",
              "      <td>0.786726</td>\n",
              "      <td>0.011361</td>\n",
              "      <td>1</td>\n",
              "    </tr>\n",
              "  </tbody>\n",
              "</table>\n",
              "</div>"
            ],
            "text/plain": [
              "   mean_fit_time  std_fit_time  ...  std_test_score  rank_test_score\n",
              "0       0.010380      0.000591  ...        0.011361                1\n",
              "1       0.010406      0.000426  ...        0.011361                1\n",
              "2       0.010133      0.000159  ...        0.011361                1\n",
              "3       0.010311      0.000582  ...        0.011361                1\n",
              "4       0.010720      0.000788  ...        0.011361                1\n",
              "\n",
              "[5 rows x 22 columns]"
            ]
          },
          "execution_count": 40,
          "metadata": {
            "tags": []
          },
          "output_type": "execute_result"
        }
      ],
      "source": [
        "from sklearn.model_selection import GridSearchCV\n",
        "\n",
        "SEED = 301\n",
        "np.random.seed(SEED)\n",
        "\n",
        "espacio_de_parametros = {\n",
        "    'max_depth' : [3,5],\n",
        "    'min_samples_split' : [32,64,128],\n",
        "    'min_samples_leaf' : [32,64,128],\n",
        "    'criterion' : ['gini', 'entropy']\n",
        "}\n",
        "\n",
        "buscar = GridSearchCV(DecisionTreeClassifier(),\n",
        "                      espacio_de_parametros,\n",
        "                      cv = GroupKFold(n_splits = 10))\n",
        "\n",
        "buscar.fit(x_ord, y_ord, groups = datos.modelo)\n",
        "resultados = pd.DataFrame(buscar.cv_results_)\n",
        "resultados.head()"
      ]
    },
    {
      "cell_type": "code",
      "execution_count": 43,
      "metadata": {
        "colab": {
          "base_uri": "https://localhost:8080/"
        },
        "id": "H11KGFMXLUjd",
        "outputId": "b91adb10-2374-48a8-f422-74b8229edc29"
      },
      "outputs": [
        {
          "name": "stdout",
          "output_type": "stream",
          "text": [
            "{'criterion': 'gini', 'max_depth': 3, 'min_samples_leaf': 32, 'min_samples_split': 32}\n",
            "78.67263337284332\n"
          ]
        }
      ],
      "source": [
        "print(buscar.best_params_)\n",
        "print(buscar.best_score_ * 100)"
      ]
    },
    {
      "cell_type": "code",
      "execution_count": 44,
      "metadata": {
        "colab": {
          "base_uri": "https://localhost:8080/"
        },
        "id": "zHLNmADrLlDH",
        "outputId": "bfd2444a-e623-4db7-f42b-084ba7ab9106"
      },
      "outputs": [
        {
          "data": {
            "text/plain": [
              "DecisionTreeClassifier(ccp_alpha=0.0, class_weight=None, criterion='gini',\n",
              "                       max_depth=3, max_features=None, max_leaf_nodes=None,\n",
              "                       min_impurity_decrease=0.0, min_impurity_split=None,\n",
              "                       min_samples_leaf=32, min_samples_split=32,\n",
              "                       min_weight_fraction_leaf=0.0, presort='deprecated',\n",
              "                       random_state=None, splitter='best')"
            ]
          },
          "execution_count": 44,
          "metadata": {
            "tags": []
          },
          "output_type": "execute_result"
        }
      ],
      "source": [
        "mejor = buscar.best_estimator_\n",
        "mejor"
      ]
    },
    {
      "cell_type": "code",
      "execution_count": 46,
      "metadata": {
        "colab": {
          "base_uri": "https://localhost:8080/"
        },
        "id": "_OV7xMO1Ly7s",
        "outputId": "2d2fc740-d218-4b16-a772-b6ccc4e9daa8"
      },
      "outputs": [
        {
          "name": "stdout",
          "output_type": "stream",
          "text": [
            "Accuracy para los datos fue 78.75%\n"
          ]
        }
      ],
      "source": [
        "from sklearn.metrics import accuracy_score\n",
        "\n",
        "#Escenario Optimista\n",
        "prediccion = mejor.predict(x_ord)\n",
        "accuracy = accuracy_score(prediccion, y_ord) * 100\n",
        "print('Accuracy para los datos fue %.2f%%' % accuracy)"
      ]
    },
    {
      "cell_type": "markdown",
      "metadata": {
        "id": "ckUz3TLHPdf2"
      },
      "source": [
        "# Nested Cross Validation\n",
        "Escenario Real"
      ]
    },
    {
      "cell_type": "code",
      "execution_count": 48,
      "metadata": {
        "colab": {
          "base_uri": "https://localhost:8080/",
          "height": 559
        },
        "id": "Boqm2yjbPmsR",
        "outputId": "949153a7-87b1-474e-a37d-1c6cfe052b0a"
      },
      "outputs": [
        {
          "data": {
            "text/html": [
              "<div>\n",
              "<style scoped>\n",
              "    .dataframe tbody tr th:only-of-type {\n",
              "        vertical-align: middle;\n",
              "    }\n",
              "\n",
              "    .dataframe tbody tr th {\n",
              "        vertical-align: top;\n",
              "    }\n",
              "\n",
              "    .dataframe thead th {\n",
              "        text-align: right;\n",
              "    }\n",
              "</style>\n",
              "<table border=\"1\" class=\"dataframe\">\n",
              "  <thead>\n",
              "    <tr style=\"text-align: right;\">\n",
              "      <th></th>\n",
              "      <th>mean_fit_time</th>\n",
              "      <th>std_fit_time</th>\n",
              "      <th>mean_score_time</th>\n",
              "      <th>std_score_time</th>\n",
              "      <th>param_criterion</th>\n",
              "      <th>param_max_depth</th>\n",
              "      <th>param_min_samples_leaf</th>\n",
              "      <th>param_min_samples_split</th>\n",
              "      <th>params</th>\n",
              "      <th>split0_test_score</th>\n",
              "      <th>split1_test_score</th>\n",
              "      <th>split2_test_score</th>\n",
              "      <th>split3_test_score</th>\n",
              "      <th>split4_test_score</th>\n",
              "      <th>mean_test_score</th>\n",
              "      <th>std_test_score</th>\n",
              "      <th>rank_test_score</th>\n",
              "    </tr>\n",
              "  </thead>\n",
              "  <tbody>\n",
              "    <tr>\n",
              "      <th>0</th>\n",
              "      <td>0.009723</td>\n",
              "      <td>0.000773</td>\n",
              "      <td>0.001413</td>\n",
              "      <td>0.000093</td>\n",
              "      <td>gini</td>\n",
              "      <td>3</td>\n",
              "      <td>32</td>\n",
              "      <td>32</td>\n",
              "      <td>{'criterion': 'gini', 'max_depth': 3, 'min_sam...</td>\n",
              "      <td>0.784</td>\n",
              "      <td>0.776</td>\n",
              "      <td>0.8025</td>\n",
              "      <td>0.793</td>\n",
              "      <td>0.7795</td>\n",
              "      <td>0.787</td>\n",
              "      <td>0.009618</td>\n",
              "      <td>1</td>\n",
              "    </tr>\n",
              "    <tr>\n",
              "      <th>1</th>\n",
              "      <td>0.009297</td>\n",
              "      <td>0.000169</td>\n",
              "      <td>0.001359</td>\n",
              "      <td>0.000017</td>\n",
              "      <td>gini</td>\n",
              "      <td>3</td>\n",
              "      <td>32</td>\n",
              "      <td>64</td>\n",
              "      <td>{'criterion': 'gini', 'max_depth': 3, 'min_sam...</td>\n",
              "      <td>0.784</td>\n",
              "      <td>0.776</td>\n",
              "      <td>0.8025</td>\n",
              "      <td>0.793</td>\n",
              "      <td>0.7795</td>\n",
              "      <td>0.787</td>\n",
              "      <td>0.009618</td>\n",
              "      <td>1</td>\n",
              "    </tr>\n",
              "    <tr>\n",
              "      <th>2</th>\n",
              "      <td>0.009257</td>\n",
              "      <td>0.000135</td>\n",
              "      <td>0.001405</td>\n",
              "      <td>0.000029</td>\n",
              "      <td>gini</td>\n",
              "      <td>3</td>\n",
              "      <td>32</td>\n",
              "      <td>128</td>\n",
              "      <td>{'criterion': 'gini', 'max_depth': 3, 'min_sam...</td>\n",
              "      <td>0.784</td>\n",
              "      <td>0.776</td>\n",
              "      <td>0.8025</td>\n",
              "      <td>0.793</td>\n",
              "      <td>0.7795</td>\n",
              "      <td>0.787</td>\n",
              "      <td>0.009618</td>\n",
              "      <td>1</td>\n",
              "    </tr>\n",
              "    <tr>\n",
              "      <th>3</th>\n",
              "      <td>0.009779</td>\n",
              "      <td>0.001019</td>\n",
              "      <td>0.001463</td>\n",
              "      <td>0.000125</td>\n",
              "      <td>gini</td>\n",
              "      <td>3</td>\n",
              "      <td>64</td>\n",
              "      <td>32</td>\n",
              "      <td>{'criterion': 'gini', 'max_depth': 3, 'min_sam...</td>\n",
              "      <td>0.784</td>\n",
              "      <td>0.776</td>\n",
              "      <td>0.8025</td>\n",
              "      <td>0.793</td>\n",
              "      <td>0.7795</td>\n",
              "      <td>0.787</td>\n",
              "      <td>0.009618</td>\n",
              "      <td>1</td>\n",
              "    </tr>\n",
              "    <tr>\n",
              "      <th>4</th>\n",
              "      <td>0.009662</td>\n",
              "      <td>0.000409</td>\n",
              "      <td>0.001385</td>\n",
              "      <td>0.000054</td>\n",
              "      <td>gini</td>\n",
              "      <td>3</td>\n",
              "      <td>64</td>\n",
              "      <td>64</td>\n",
              "      <td>{'criterion': 'gini', 'max_depth': 3, 'min_sam...</td>\n",
              "      <td>0.784</td>\n",
              "      <td>0.776</td>\n",
              "      <td>0.8025</td>\n",
              "      <td>0.793</td>\n",
              "      <td>0.7795</td>\n",
              "      <td>0.787</td>\n",
              "      <td>0.009618</td>\n",
              "      <td>1</td>\n",
              "    </tr>\n",
              "  </tbody>\n",
              "</table>\n",
              "</div>"
            ],
            "text/plain": [
              "   mean_fit_time  std_fit_time  ...  std_test_score  rank_test_score\n",
              "0       0.009723      0.000773  ...        0.009618                1\n",
              "1       0.009297      0.000169  ...        0.009618                1\n",
              "2       0.009257      0.000135  ...        0.009618                1\n",
              "3       0.009779      0.001019  ...        0.009618                1\n",
              "4       0.009662      0.000409  ...        0.009618                1\n",
              "\n",
              "[5 rows x 17 columns]"
            ]
          },
          "execution_count": 48,
          "metadata": {
            "tags": []
          },
          "output_type": "execute_result"
        }
      ],
      "source": [
        "from sklearn.model_selection import KFold\n",
        "\n",
        "SEED = 301\n",
        "np.random.seed(SEED)\n",
        "\n",
        "espacio_de_parametros = {\n",
        "    'max_depth' : [3,5],\n",
        "    'min_samples_split' : [32,64,128],\n",
        "    'min_samples_leaf' : [32,64,128],\n",
        "    'criterion' : ['gini', 'entropy']\n",
        "}\n",
        "\n",
        "buscar = GridSearchCV(DecisionTreeClassifier(),\n",
        "                      espacio_de_parametros,\n",
        "                      cv = KFold(n_splits = 5, shuffle=True))\n",
        "\n",
        "buscar.fit(x_ord, y_ord)\n",
        "resultados = pd.DataFrame(buscar.cv_results_)\n",
        "resultados.head()"
      ]
    },
    {
      "cell_type": "code",
      "execution_count": 49,
      "metadata": {
        "colab": {
          "base_uri": "https://localhost:8080/"
        },
        "id": "Zrx0wQSvRX_p",
        "outputId": "a9d6a039-6288-4e2c-d060-d9657bbeea44"
      },
      "outputs": [
        {
          "data": {
            "text/plain": [
              "array([0.7895, 0.7825, 0.7905, 0.7715, 0.7995])"
            ]
          },
          "execution_count": 49,
          "metadata": {
            "tags": []
          },
          "output_type": "execute_result"
        }
      ],
      "source": [
        "from sklearn.model_selection import cross_val_score\n",
        "\n",
        "scores = cross_val_score(buscar, x_ord, y_ord, cv = KFold(n_splits=5, shuffle=True))\n",
        "scores"
      ]
    },
    {
      "cell_type": "code",
      "execution_count": 50,
      "metadata": {
        "id": "sM8WbBPzR54z"
      },
      "outputs": [],
      "source": [
        "def imprime_score(scores):\n",
        "  media = scores.mean() * 100\n",
        "  desviacion = scores.std() * 100\n",
        "  print(\"Accuracy media %.2f\" % media)\n",
        "  print(\"Intervalo [%.2f, %.2f]\" % (media - 2 * desviacion, media + 2 * desviacion))"
      ]
    },
    {
      "cell_type": "code",
      "execution_count": 51,
      "metadata": {
        "colab": {
          "base_uri": "https://localhost:8080/"
        },
        "id": "3d-k_vWHSFf8",
        "outputId": "7545a289-00e8-4f98-826e-4cfef2d1b3a7"
      },
      "outputs": [
        {
          "name": "stdout",
          "output_type": "stream",
          "text": [
            "Accuracy media 78.67\n",
            "Intervalo [76.80, 80.54]\n"
          ]
        }
      ],
      "source": [
        "imprime_score(scores) "
      ]
    },
    {
      "cell_type": "code",
      "execution_count": 52,
      "metadata": {
        "colab": {
          "base_uri": "https://localhost:8080/"
        },
        "id": "uJU0nE6cSVBE",
        "outputId": "b3d9fee9-7177-452f-d104-db19d88d3809"
      },
      "outputs": [
        {
          "name": "stdout",
          "output_type": "stream",
          "text": [
            "DecisionTreeClassifier(ccp_alpha=0.0, class_weight=None, criterion='gini',\n",
            "                       max_depth=3, max_features=None, max_leaf_nodes=None,\n",
            "                       min_impurity_decrease=0.0, min_impurity_split=None,\n",
            "                       min_samples_leaf=32, min_samples_split=32,\n",
            "                       min_weight_fraction_leaf=0.0, presort='deprecated',\n",
            "                       random_state=None, splitter='best')\n"
          ]
        }
      ],
      "source": [
        "mejor = buscar.best_estimator_\n",
        "print(mejor)"
      ]
    },
    {
      "cell_type": "code",
      "execution_count": 53,
      "metadata": {
        "colab": {
          "base_uri": "https://localhost:8080/",
          "height": 598
        },
        "id": "HYa6gfq9Shlz",
        "outputId": "0cf09f49-3cf7-4a42-83a8-efa9e114866b"
      },
      "outputs": [
        {
          "data": {
            "image/svg+xml": [
              "<?xml version=\"1.0\" encoding=\"UTF-8\" standalone=\"no\"?>\n",
              "<!DOCTYPE svg PUBLIC \"-//W3C//DTD SVG 1.1//EN\"\n",
              " \"http://www.w3.org/Graphics/SVG/1.1/DTD/svg11.dtd\">\n",
              "<!-- Generated by graphviz version 2.40.1 (20161225.0304)\n",
              " -->\n",
              "<!-- Title: Tree Pages: 1 -->\n",
              "<svg width=\"913pt\" height=\"433pt\"\n",
              " viewBox=\"0.00 0.00 913.00 433.00\" xmlns=\"http://www.w3.org/2000/svg\" xmlns:xlink=\"http://www.w3.org/1999/xlink\">\n",
              "<g id=\"graph0\" class=\"graph\" transform=\"scale(1 1) rotate(0) translate(4 429)\">\n",
              "<title>Tree</title>\n",
              "<polygon fill=\"#ffffff\" stroke=\"transparent\" points=\"-4,4 -4,-429 909,-429 909,4 -4,4\"/>\n",
              "<!-- 0 -->\n",
              "<g id=\"node1\" class=\"node\">\n",
              "<title>0</title>\n",
              "<path fill=\"#c8e4f8\" stroke=\"#000000\" d=\"M374,-425C374,-425 248,-425 248,-425 242,-425 236,-419 236,-413 236,-413 236,-354 236,-354 236,-348 242,-342 248,-342 248,-342 374,-342 374,-342 380,-342 386,-348 386,-354 386,-354 386,-413 386,-413 386,-419 380,-425 374,-425\"/>\n",
              "<text text-anchor=\"middle\" x=\"311\" y=\"-409.8\" font-family=\"Helvetica,sans-Serif\" font-size=\"14.00\" fill=\"#000000\">precio &lt;= 59982.246</text>\n",
              "<text text-anchor=\"middle\" x=\"311\" y=\"-394.8\" font-family=\"Helvetica,sans-Serif\" font-size=\"14.00\" fill=\"#000000\">gini = 0.487</text>\n",
              "<text text-anchor=\"middle\" x=\"311\" y=\"-379.8\" font-family=\"Helvetica,sans-Serif\" font-size=\"14.00\" fill=\"#000000\">samples = 10000</text>\n",
              "<text text-anchor=\"middle\" x=\"311\" y=\"-364.8\" font-family=\"Helvetica,sans-Serif\" font-size=\"14.00\" fill=\"#000000\">value = [4200, 5800]</text>\n",
              "<text text-anchor=\"middle\" x=\"311\" y=\"-349.8\" font-family=\"Helvetica,sans-Serif\" font-size=\"14.00\" fill=\"#000000\">class = si</text>\n",
              "</g>\n",
              "<!-- 1 -->\n",
              "<g id=\"node2\" class=\"node\">\n",
              "<title>1</title>\n",
              "<path fill=\"#52a9e8\" stroke=\"#000000\" d=\"M280,-306C280,-306 154,-306 154,-306 148,-306 142,-300 142,-294 142,-294 142,-235 142,-235 142,-229 148,-223 154,-223 154,-223 280,-223 280,-223 286,-223 292,-229 292,-235 292,-235 292,-294 292,-294 292,-300 286,-306 280,-306\"/>\n",
              "<text text-anchor=\"middle\" x=\"217\" y=\"-290.8\" font-family=\"Helvetica,sans-Serif\" font-size=\"14.00\" fill=\"#000000\">precio &lt;= 40083.385</text>\n",
              "<text text-anchor=\"middle\" x=\"217\" y=\"-275.8\" font-family=\"Helvetica,sans-Serif\" font-size=\"14.00\" fill=\"#000000\">gini = 0.198</text>\n",
              "<text text-anchor=\"middle\" x=\"217\" y=\"-260.8\" font-family=\"Helvetica,sans-Serif\" font-size=\"14.00\" fill=\"#000000\">samples = 4347</text>\n",
              "<text text-anchor=\"middle\" x=\"217\" y=\"-245.8\" font-family=\"Helvetica,sans-Serif\" font-size=\"14.00\" fill=\"#000000\">value = [484, 3863]</text>\n",
              "<text text-anchor=\"middle\" x=\"217\" y=\"-230.8\" font-family=\"Helvetica,sans-Serif\" font-size=\"14.00\" fill=\"#000000\">class = si</text>\n",
              "</g>\n",
              "<!-- 0&#45;&gt;1 -->\n",
              "<g id=\"edge1\" class=\"edge\">\n",
              "<title>0&#45;&gt;1</title>\n",
              "<path fill=\"none\" stroke=\"#000000\" d=\"M278.1234,-341.8796C271.0803,-332.9633 263.5707,-323.4565 256.3126,-314.268\"/>\n",
              "<polygon fill=\"#000000\" stroke=\"#000000\" points=\"258.9621,-311.9757 250.017,-306.2981 253.4691,-316.3147 258.9621,-311.9757\"/>\n",
              "<text text-anchor=\"middle\" x=\"247.1027\" y=\"-327.4276\" font-family=\"Helvetica,sans-Serif\" font-size=\"14.00\" fill=\"#000000\">True</text>\n",
              "</g>\n",
              "<!-- 6 -->\n",
              "<g id=\"node7\" class=\"node\">\n",
              "<title>6</title>\n",
              "<path fill=\"#f3c3a0\" stroke=\"#000000\" d=\"M545.5,-306C545.5,-306 378.5,-306 378.5,-306 372.5,-306 366.5,-300 366.5,-294 366.5,-294 366.5,-235 366.5,-235 366.5,-229 372.5,-223 378.5,-223 378.5,-223 545.5,-223 545.5,-223 551.5,-223 557.5,-229 557.5,-235 557.5,-235 557.5,-294 557.5,-294 557.5,-300 551.5,-306 545.5,-306\"/>\n",
              "<text text-anchor=\"middle\" x=\"462\" y=\"-290.8\" font-family=\"Helvetica,sans-Serif\" font-size=\"14.00\" fill=\"#000000\">km_by_year &lt;= 24124.006</text>\n",
              "<text text-anchor=\"middle\" x=\"462\" y=\"-275.8\" font-family=\"Helvetica,sans-Serif\" font-size=\"14.00\" fill=\"#000000\">gini = 0.45</text>\n",
              "<text text-anchor=\"middle\" x=\"462\" y=\"-260.8\" font-family=\"Helvetica,sans-Serif\" font-size=\"14.00\" fill=\"#000000\">samples = 5653</text>\n",
              "<text text-anchor=\"middle\" x=\"462\" y=\"-245.8\" font-family=\"Helvetica,sans-Serif\" font-size=\"14.00\" fill=\"#000000\">value = [3716, 1937]</text>\n",
              "<text text-anchor=\"middle\" x=\"462\" y=\"-230.8\" font-family=\"Helvetica,sans-Serif\" font-size=\"14.00\" fill=\"#000000\">class = no</text>\n",
              "</g>\n",
              "<!-- 0&#45;&gt;6 -->\n",
              "<g id=\"edge6\" class=\"edge\">\n",
              "<title>0&#45;&gt;6</title>\n",
              "<path fill=\"none\" stroke=\"#000000\" d=\"M363.8125,-341.8796C375.8818,-332.368 388.8039,-322.1843 401.1788,-312.432\"/>\n",
              "<polygon fill=\"#000000\" stroke=\"#000000\" points=\"403.5296,-315.0356 409.2173,-306.0969 399.1968,-309.5377 403.5296,-315.0356\"/>\n",
              "<text text-anchor=\"middle\" x=\"406.275\" y=\"-327.2232\" font-family=\"Helvetica,sans-Serif\" font-size=\"14.00\" fill=\"#000000\">False</text>\n",
              "</g>\n",
              "<!-- 2 -->\n",
              "<g id=\"node3\" class=\"node\">\n",
              "<title>2</title>\n",
              "<path fill=\"#399de5\" stroke=\"#000000\" d=\"M112,-179.5C112,-179.5 12,-179.5 12,-179.5 6,-179.5 0,-173.5 0,-167.5 0,-167.5 0,-123.5 0,-123.5 0,-117.5 6,-111.5 12,-111.5 12,-111.5 112,-111.5 112,-111.5 118,-111.5 124,-117.5 124,-123.5 124,-123.5 124,-167.5 124,-167.5 124,-173.5 118,-179.5 112,-179.5\"/>\n",
              "<text text-anchor=\"middle\" x=\"62\" y=\"-164.3\" font-family=\"Helvetica,sans-Serif\" font-size=\"14.00\" fill=\"#000000\">gini = 0.0</text>\n",
              "<text text-anchor=\"middle\" x=\"62\" y=\"-149.3\" font-family=\"Helvetica,sans-Serif\" font-size=\"14.00\" fill=\"#000000\">samples = 1935</text>\n",
              "<text text-anchor=\"middle\" x=\"62\" y=\"-134.3\" font-family=\"Helvetica,sans-Serif\" font-size=\"14.00\" fill=\"#000000\">value = [0, 1935]</text>\n",
              "<text text-anchor=\"middle\" x=\"62\" y=\"-119.3\" font-family=\"Helvetica,sans-Serif\" font-size=\"14.00\" fill=\"#000000\">class = si</text>\n",
              "</g>\n",
              "<!-- 1&#45;&gt;2 -->\n",
              "<g id=\"edge2\" class=\"edge\">\n",
              "<title>1&#45;&gt;2</title>\n",
              "<path fill=\"none\" stroke=\"#000000\" d=\"M162.7885,-222.8796C147.1769,-210.8938 130.1753,-197.841 114.6592,-185.9287\"/>\n",
              "<polygon fill=\"#000000\" stroke=\"#000000\" points=\"116.7593,-183.1285 106.6959,-179.8149 112.4965,-188.6808 116.7593,-183.1285\"/>\n",
              "</g>\n",
              "<!-- 3 -->\n",
              "<g id=\"node4\" class=\"node\">\n",
              "<title>3</title>\n",
              "<path fill=\"#6bb6ec\" stroke=\"#000000\" d=\"M280,-187C280,-187 154,-187 154,-187 148,-187 142,-181 142,-175 142,-175 142,-116 142,-116 142,-110 148,-104 154,-104 154,-104 280,-104 280,-104 286,-104 292,-110 292,-116 292,-116 292,-175 292,-175 292,-181 286,-187 280,-187\"/>\n",
              "<text text-anchor=\"middle\" x=\"217\" y=\"-171.8\" font-family=\"Helvetica,sans-Serif\" font-size=\"14.00\" fill=\"#000000\">precio &lt;= 41083.029</text>\n",
              "<text text-anchor=\"middle\" x=\"217\" y=\"-156.8\" font-family=\"Helvetica,sans-Serif\" font-size=\"14.00\" fill=\"#000000\">gini = 0.321</text>\n",
              "<text text-anchor=\"middle\" x=\"217\" y=\"-141.8\" font-family=\"Helvetica,sans-Serif\" font-size=\"14.00\" fill=\"#000000\">samples = 2412</text>\n",
              "<text text-anchor=\"middle\" x=\"217\" y=\"-126.8\" font-family=\"Helvetica,sans-Serif\" font-size=\"14.00\" fill=\"#000000\">value = [484, 1928]</text>\n",
              "<text text-anchor=\"middle\" x=\"217\" y=\"-111.8\" font-family=\"Helvetica,sans-Serif\" font-size=\"14.00\" fill=\"#000000\">class = si</text>\n",
              "</g>\n",
              "<!-- 1&#45;&gt;3 -->\n",
              "<g id=\"edge3\" class=\"edge\">\n",
              "<title>1&#45;&gt;3</title>\n",
              "<path fill=\"none\" stroke=\"#000000\" d=\"M217,-222.8796C217,-214.6838 217,-205.9891 217,-197.5013\"/>\n",
              "<polygon fill=\"#000000\" stroke=\"#000000\" points=\"220.5001,-197.298 217,-187.2981 213.5001,-197.2981 220.5001,-197.298\"/>\n",
              "</g>\n",
              "<!-- 4 -->\n",
              "<g id=\"node5\" class=\"node\">\n",
              "<title>4</title>\n",
              "<path fill=\"#95cbf1\" stroke=\"#000000\" d=\"M117,-68C117,-68 25,-68 25,-68 19,-68 13,-62 13,-56 13,-56 13,-12 13,-12 13,-6 19,0 25,0 25,0 117,0 117,0 123,0 129,-6 129,-12 129,-12 129,-56 129,-56 129,-62 123,-68 117,-68\"/>\n",
              "<text text-anchor=\"middle\" x=\"71\" y=\"-52.8\" font-family=\"Helvetica,sans-Serif\" font-size=\"14.00\" fill=\"#000000\">gini = 0.434</text>\n",
              "<text text-anchor=\"middle\" x=\"71\" y=\"-37.8\" font-family=\"Helvetica,sans-Serif\" font-size=\"14.00\" fill=\"#000000\">samples = 110</text>\n",
              "<text text-anchor=\"middle\" x=\"71\" y=\"-22.8\" font-family=\"Helvetica,sans-Serif\" font-size=\"14.00\" fill=\"#000000\">value = [35, 75]</text>\n",
              "<text text-anchor=\"middle\" x=\"71\" y=\"-7.8\" font-family=\"Helvetica,sans-Serif\" font-size=\"14.00\" fill=\"#000000\">class = si</text>\n",
              "</g>\n",
              "<!-- 3&#45;&gt;4 -->\n",
              "<g id=\"edge4\" class=\"edge\">\n",
              "<title>3&#45;&gt;4</title>\n",
              "<path fill=\"none\" stroke=\"#000000\" d=\"M162.635,-103.9815C149.9989,-94.3313 136.5644,-84.0714 123.9885,-74.4673\"/>\n",
              "<polygon fill=\"#000000\" stroke=\"#000000\" points=\"125.9372,-71.5515 115.8654,-68.2637 121.6886,-77.1148 125.9372,-71.5515\"/>\n",
              "</g>\n",
              "<!-- 5 -->\n",
              "<g id=\"node6\" class=\"node\">\n",
              "<title>5</title>\n",
              "<path fill=\"#69b5eb\" stroke=\"#000000\" d=\"M275,-68C275,-68 159,-68 159,-68 153,-68 147,-62 147,-56 147,-56 147,-12 147,-12 147,-6 153,0 159,0 159,0 275,0 275,0 281,0 287,-6 287,-12 287,-12 287,-56 287,-56 287,-62 281,-68 275,-68\"/>\n",
              "<text text-anchor=\"middle\" x=\"217\" y=\"-52.8\" font-family=\"Helvetica,sans-Serif\" font-size=\"14.00\" fill=\"#000000\">gini = 0.314</text>\n",
              "<text text-anchor=\"middle\" x=\"217\" y=\"-37.8\" font-family=\"Helvetica,sans-Serif\" font-size=\"14.00\" fill=\"#000000\">samples = 2302</text>\n",
              "<text text-anchor=\"middle\" x=\"217\" y=\"-22.8\" font-family=\"Helvetica,sans-Serif\" font-size=\"14.00\" fill=\"#000000\">value = [449, 1853]</text>\n",
              "<text text-anchor=\"middle\" x=\"217\" y=\"-7.8\" font-family=\"Helvetica,sans-Serif\" font-size=\"14.00\" fill=\"#000000\">class = si</text>\n",
              "</g>\n",
              "<!-- 3&#45;&gt;5 -->\n",
              "<g id=\"edge5\" class=\"edge\">\n",
              "<title>3&#45;&gt;5</title>\n",
              "<path fill=\"none\" stroke=\"#000000\" d=\"M217,-103.9815C217,-95.618 217,-86.7965 217,-78.3409\"/>\n",
              "<polygon fill=\"#000000\" stroke=\"#000000\" points=\"220.5001,-78.2636 217,-68.2637 213.5001,-78.2637 220.5001,-78.2636\"/>\n",
              "</g>\n",
              "<!-- 7 -->\n",
              "<g id=\"node8\" class=\"node\">\n",
              "<title>7</title>\n",
              "<path fill=\"#fcefe5\" stroke=\"#000000\" d=\"M524.5,-187C524.5,-187 399.5,-187 399.5,-187 393.5,-187 387.5,-181 387.5,-175 387.5,-175 387.5,-116 387.5,-116 387.5,-110 393.5,-104 399.5,-104 399.5,-104 524.5,-104 524.5,-104 530.5,-104 536.5,-110 536.5,-116 536.5,-116 536.5,-175 536.5,-175 536.5,-181 530.5,-187 524.5,-187\"/>\n",
              "<text text-anchor=\"middle\" x=\"462\" y=\"-171.8\" font-family=\"Helvetica,sans-Serif\" font-size=\"14.00\" fill=\"#000000\">precio &lt;= 99974.41</text>\n",
              "<text text-anchor=\"middle\" x=\"462\" y=\"-156.8\" font-family=\"Helvetica,sans-Serif\" font-size=\"14.00\" fill=\"#000000\">gini = 0.498</text>\n",
              "<text text-anchor=\"middle\" x=\"462\" y=\"-141.8\" font-family=\"Helvetica,sans-Serif\" font-size=\"14.00\" fill=\"#000000\">samples = 3513</text>\n",
              "<text text-anchor=\"middle\" x=\"462\" y=\"-126.8\" font-family=\"Helvetica,sans-Serif\" font-size=\"14.00\" fill=\"#000000\">value = [1879, 1634]</text>\n",
              "<text text-anchor=\"middle\" x=\"462\" y=\"-111.8\" font-family=\"Helvetica,sans-Serif\" font-size=\"14.00\" fill=\"#000000\">class = no</text>\n",
              "</g>\n",
              "<!-- 6&#45;&gt;7 -->\n",
              "<g id=\"edge7\" class=\"edge\">\n",
              "<title>6&#45;&gt;7</title>\n",
              "<path fill=\"none\" stroke=\"#000000\" d=\"M462,-222.8796C462,-214.6838 462,-205.9891 462,-197.5013\"/>\n",
              "<polygon fill=\"#000000\" stroke=\"#000000\" points=\"465.5001,-197.298 462,-187.2981 458.5001,-197.2981 465.5001,-197.298\"/>\n",
              "</g>\n",
              "<!-- 10 -->\n",
              "<g id=\"node11\" class=\"node\">\n",
              "<title>10</title>\n",
              "<path fill=\"#e9965a\" stroke=\"#000000\" d=\"M756,-187C756,-187 622,-187 622,-187 616,-187 610,-181 610,-175 610,-175 610,-116 610,-116 610,-110 616,-104 622,-104 622,-104 756,-104 756,-104 762,-104 768,-110 768,-116 768,-116 768,-175 768,-175 768,-181 762,-187 756,-187\"/>\n",
              "<text text-anchor=\"middle\" x=\"689\" y=\"-171.8\" font-family=\"Helvetica,sans-Serif\" font-size=\"14.00\" fill=\"#000000\">precio &lt;= 100076.957</text>\n",
              "<text text-anchor=\"middle\" x=\"689\" y=\"-156.8\" font-family=\"Helvetica,sans-Serif\" font-size=\"14.00\" fill=\"#000000\">gini = 0.243</text>\n",
              "<text text-anchor=\"middle\" x=\"689\" y=\"-141.8\" font-family=\"Helvetica,sans-Serif\" font-size=\"14.00\" fill=\"#000000\">samples = 2140</text>\n",
              "<text text-anchor=\"middle\" x=\"689\" y=\"-126.8\" font-family=\"Helvetica,sans-Serif\" font-size=\"14.00\" fill=\"#000000\">value = [1837, 303]</text>\n",
              "<text text-anchor=\"middle\" x=\"689\" y=\"-111.8\" font-family=\"Helvetica,sans-Serif\" font-size=\"14.00\" fill=\"#000000\">class = no</text>\n",
              "</g>\n",
              "<!-- 6&#45;&gt;10 -->\n",
              "<g id=\"edge10\" class=\"edge\">\n",
              "<title>6&#45;&gt;10</title>\n",
              "<path fill=\"none\" stroke=\"#000000\" d=\"M541.3936,-222.8796C560.5744,-212.8244 581.1878,-202.0183 600.7475,-191.7645\"/>\n",
              "<polygon fill=\"#000000\" stroke=\"#000000\" points=\"602.4195,-194.8398 609.6512,-187.0969 599.1694,-188.6401 602.4195,-194.8398\"/>\n",
              "</g>\n",
              "<!-- 8 -->\n",
              "<g id=\"node9\" class=\"node\">\n",
              "<title>8</title>\n",
              "<path fill=\"#f9e0ce\" stroke=\"#000000\" d=\"M442.5,-68C442.5,-68 317.5,-68 317.5,-68 311.5,-68 305.5,-62 305.5,-56 305.5,-56 305.5,-12 305.5,-12 305.5,-6 311.5,0 317.5,0 317.5,0 442.5,0 442.5,0 448.5,0 454.5,-6 454.5,-12 454.5,-12 454.5,-56 454.5,-56 454.5,-62 448.5,-68 442.5,-68\"/>\n",
              "<text text-anchor=\"middle\" x=\"380\" y=\"-52.8\" font-family=\"Helvetica,sans-Serif\" font-size=\"14.00\" fill=\"#000000\">gini = 0.49</text>\n",
              "<text text-anchor=\"middle\" x=\"380\" y=\"-37.8\" font-family=\"Helvetica,sans-Serif\" font-size=\"14.00\" fill=\"#000000\">samples = 2944</text>\n",
              "<text text-anchor=\"middle\" x=\"380\" y=\"-22.8\" font-family=\"Helvetica,sans-Serif\" font-size=\"14.00\" fill=\"#000000\">value = [1682, 1262]</text>\n",
              "<text text-anchor=\"middle\" x=\"380\" y=\"-7.8\" font-family=\"Helvetica,sans-Serif\" font-size=\"14.00\" fill=\"#000000\">class = no</text>\n",
              "</g>\n",
              "<!-- 7&#45;&gt;8 -->\n",
              "<g id=\"edge8\" class=\"edge\">\n",
              "<title>7&#45;&gt;8</title>\n",
              "<path fill=\"none\" stroke=\"#000000\" d=\"M431.4662,-103.9815C424.8424,-94.9747 417.8279,-85.4367 411.1795,-76.3965\"/>\n",
              "<polygon fill=\"#000000\" stroke=\"#000000\" points=\"413.9426,-74.2461 405.1984,-68.2637 408.3034,-78.3933 413.9426,-74.2461\"/>\n",
              "</g>\n",
              "<!-- 9 -->\n",
              "<g id=\"node10\" class=\"node\">\n",
              "<title>9</title>\n",
              "<path fill=\"#a2d1f3\" stroke=\"#000000\" d=\"M593,-68C593,-68 485,-68 485,-68 479,-68 473,-62 473,-56 473,-56 473,-12 473,-12 473,-6 479,0 485,0 485,0 593,0 593,0 599,0 605,-6 605,-12 605,-12 605,-56 605,-56 605,-62 599,-68 593,-68\"/>\n",
              "<text text-anchor=\"middle\" x=\"539\" y=\"-52.8\" font-family=\"Helvetica,sans-Serif\" font-size=\"14.00\" fill=\"#000000\">gini = 0.453</text>\n",
              "<text text-anchor=\"middle\" x=\"539\" y=\"-37.8\" font-family=\"Helvetica,sans-Serif\" font-size=\"14.00\" fill=\"#000000\">samples = 569</text>\n",
              "<text text-anchor=\"middle\" x=\"539\" y=\"-22.8\" font-family=\"Helvetica,sans-Serif\" font-size=\"14.00\" fill=\"#000000\">value = [197, 372]</text>\n",
              "<text text-anchor=\"middle\" x=\"539\" y=\"-7.8\" font-family=\"Helvetica,sans-Serif\" font-size=\"14.00\" fill=\"#000000\">class = si</text>\n",
              "</g>\n",
              "<!-- 7&#45;&gt;9 -->\n",
              "<g id=\"edge9\" class=\"edge\">\n",
              "<title>7&#45;&gt;9</title>\n",
              "<path fill=\"none\" stroke=\"#000000\" d=\"M490.672,-103.9815C496.8285,-95.0666 503.3443,-85.6313 509.5305,-76.6734\"/>\n",
              "<polygon fill=\"#000000\" stroke=\"#000000\" points=\"512.5355,-78.4811 515.3381,-68.2637 506.7755,-74.5034 512.5355,-78.4811\"/>\n",
              "</g>\n",
              "<!-- 11 -->\n",
              "<g id=\"node12\" class=\"node\">\n",
              "<title>11</title>\n",
              "<path fill=\"#e68742\" stroke=\"#000000\" d=\"M743,-68C743,-68 635,-68 635,-68 629,-68 623,-62 623,-56 623,-56 623,-12 623,-12 623,-6 629,0 635,0 635,0 743,0 743,0 749,0 755,-6 755,-12 755,-12 755,-56 755,-56 755,-62 749,-68 743,-68\"/>\n",
              "<text text-anchor=\"middle\" x=\"689\" y=\"-52.8\" font-family=\"Helvetica,sans-Serif\" font-size=\"14.00\" fill=\"#000000\">gini = 0.082</text>\n",
              "<text text-anchor=\"middle\" x=\"689\" y=\"-37.8\" font-family=\"Helvetica,sans-Serif\" font-size=\"14.00\" fill=\"#000000\">samples = 1809</text>\n",
              "<text text-anchor=\"middle\" x=\"689\" y=\"-22.8\" font-family=\"Helvetica,sans-Serif\" font-size=\"14.00\" fill=\"#000000\">value = [1732, 77]</text>\n",
              "<text text-anchor=\"middle\" x=\"689\" y=\"-7.8\" font-family=\"Helvetica,sans-Serif\" font-size=\"14.00\" fill=\"#000000\">class = no</text>\n",
              "</g>\n",
              "<!-- 10&#45;&gt;11 -->\n",
              "<g id=\"edge11\" class=\"edge\">\n",
              "<title>10&#45;&gt;11</title>\n",
              "<path fill=\"none\" stroke=\"#000000\" d=\"M689,-103.9815C689,-95.618 689,-86.7965 689,-78.3409\"/>\n",
              "<polygon fill=\"#000000\" stroke=\"#000000\" points=\"692.5001,-78.2636 689,-68.2637 685.5001,-78.2637 692.5001,-78.2636\"/>\n",
              "</g>\n",
              "<!-- 12 -->\n",
              "<g id=\"node13\" class=\"node\">\n",
              "<title>12</title>\n",
              "<path fill=\"#95cbf1\" stroke=\"#000000\" d=\"M893,-68C893,-68 785,-68 785,-68 779,-68 773,-62 773,-56 773,-56 773,-12 773,-12 773,-6 779,0 785,0 785,0 893,0 893,0 899,0 905,-6 905,-12 905,-12 905,-56 905,-56 905,-62 899,-68 893,-68\"/>\n",
              "<text text-anchor=\"middle\" x=\"839\" y=\"-52.8\" font-family=\"Helvetica,sans-Serif\" font-size=\"14.00\" fill=\"#000000\">gini = 0.433</text>\n",
              "<text text-anchor=\"middle\" x=\"839\" y=\"-37.8\" font-family=\"Helvetica,sans-Serif\" font-size=\"14.00\" fill=\"#000000\">samples = 331</text>\n",
              "<text text-anchor=\"middle\" x=\"839\" y=\"-22.8\" font-family=\"Helvetica,sans-Serif\" font-size=\"14.00\" fill=\"#000000\">value = [105, 226]</text>\n",
              "<text text-anchor=\"middle\" x=\"839\" y=\"-7.8\" font-family=\"Helvetica,sans-Serif\" font-size=\"14.00\" fill=\"#000000\">class = si</text>\n",
              "</g>\n",
              "<!-- 10&#45;&gt;12 -->\n",
              "<g id=\"edge12\" class=\"edge\">\n",
              "<title>10&#45;&gt;12</title>\n",
              "<path fill=\"none\" stroke=\"#000000\" d=\"M744.8545,-103.9815C757.8368,-94.3313 771.6394,-84.0714 784.5597,-74.4673\"/>\n",
              "<polygon fill=\"#000000\" stroke=\"#000000\" points=\"786.9678,-77.0384 792.9054,-68.2637 782.7917,-71.4204 786.9678,-77.0384\"/>\n",
              "</g>\n",
              "</g>\n",
              "</svg>\n"
            ],
            "text/plain": [
              "<graphviz.files.Source at 0x7f76381b7c50>"
            ]
          },
          "execution_count": 53,
          "metadata": {
            "tags": []
          },
          "output_type": "execute_result"
        }
      ],
      "source": [
        "features = x_ord.columns\n",
        "dot_data = export_graphviz(mejor, out_file=None, filled=True, rounded=True,\n",
        "                class_names=['no','si'],\n",
        "                feature_names = features)\n",
        "\n",
        "graph = graphviz.Source(dot_data)\n",
        "graph"
      ]
    }
  ],
  "metadata": {
    "colab": {
      "collapsed_sections": [],
      "name": "Introduccion_a_Machine_Learning_Optimizacion.ipynb",
      "provenance": []
    },
    "kernelspec": {
      "display_name": "Python 3",
      "name": "python3"
    }
  },
  "nbformat": 4,
  "nbformat_minor": 0
}
